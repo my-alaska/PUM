{
 "cells": [
  {
   "cell_type": "markdown",
   "source": [
    "# Kernel Methods and SVMs"
   ],
   "metadata": {
    "collapsed": false
   },
   "id": "4e3dc5da93107530"
  },
  {
   "cell_type": "markdown",
   "source": [
    "First install and import needed packages and libraries"
   ],
   "metadata": {
    "collapsed": false
   },
   "id": "b8dfc27660a70a10"
  },
  {
   "cell_type": "code",
   "execution_count": 2,
   "outputs": [],
   "source": [
    "# !pip install numpy scipy pandas matplotlib scikit-learn missingno"
   ],
   "metadata": {
    "collapsed": false,
    "ExecuteTime": {
     "end_time": "2024-01-07T17:41:41.409923100Z",
     "start_time": "2024-01-07T17:41:41.387944700Z"
    }
   },
   "id": "e28329d1301d4702"
  },
  {
   "cell_type": "code",
   "execution_count": 3,
   "outputs": [],
   "source": [
    "import numpy as np\n",
    "import pandas as pd"
   ],
   "metadata": {
    "collapsed": false,
    "ExecuteTime": {
     "end_time": "2024-01-07T17:41:42.463918300Z",
     "start_time": "2024-01-07T17:41:41.589919Z"
    }
   },
   "id": "778c76934493fd6e"
  },
  {
   "cell_type": "markdown",
   "source": [
    "We're going to use [Cod-RNA dataset](https://www.csie.ntu.edu.tw/~cjlin/libsvmtools/datasets/binary.html#cod-rna) from ([this article](https://bmcbioinformatics.biomedcentral.com/articles/10.1186/1471-2105-7-173)):\n",
    "\n",
    "In biology, RNA transports genetic information from DNA to proteins. However, not all RNA and DNA are coding. Other types, such as non-coding RNA, have many other functions.\n",
    "\n",
    "There are hypotheses suggesting that the secondary structure of genetic material can be used to determine whether RNA is coding. Predicting the higher degree structure of genetic material is a typical machine learning task. As it's expensive to test that experimentally.\n",
    "\n",
    "The dataset we're going to use for this task has 8 features:\n",
    "- the value calculated by a [Dynalign](https://www.sciencedirect.com/science/article/abs/pii/S0022283601953513)\n",
    "- The length of the shortest genetic sequence\n",
    "- Nucleobase frequencies in sequences 1 and 2 (6 features total)"
   ],
   "metadata": {
    "collapsed": false
   },
   "id": "3567c4e69b20d8f"
  },
  {
   "cell_type": "code",
   "execution_count": 4,
   "outputs": [
    {
     "data": {
      "text/plain": "   Dynalign  ShorterSeqLength  Seq1FreqA  Seq1FreqU  Seq1FreqC  Seq2FreqA  \\\n0    -766.0             128.0   0.140625   0.304688   0.234375   0.140625   \n1    -726.0             131.0   0.129771   0.328244   0.229008   0.129771   \n2    -648.0             123.0   0.146341   0.333333   0.211382   0.146341   \n3    -764.0             124.0   0.137097   0.322581   0.233871   0.137097   \n4    -584.0             130.0   0.153846   0.392308   0.184615   0.153846   \n\n   Seq2FreqU  Seq2FreqC    y  \n0   0.304688   0.234375 -1.0  \n1   0.328244   0.229008 -1.0  \n2   0.333333   0.211382 -1.0  \n3   0.322581   0.233871 -1.0  \n4   0.392308   0.184615 -1.0  ",
      "text/html": "<div>\n<style scoped>\n    .dataframe tbody tr th:only-of-type {\n        vertical-align: middle;\n    }\n\n    .dataframe tbody tr th {\n        vertical-align: top;\n    }\n\n    .dataframe thead th {\n        text-align: right;\n    }\n</style>\n<table border=\"1\" class=\"dataframe\">\n  <thead>\n    <tr style=\"text-align: right;\">\n      <th></th>\n      <th>Dynalign</th>\n      <th>ShorterSeqLength</th>\n      <th>Seq1FreqA</th>\n      <th>Seq1FreqU</th>\n      <th>Seq1FreqC</th>\n      <th>Seq2FreqA</th>\n      <th>Seq2FreqU</th>\n      <th>Seq2FreqC</th>\n      <th>y</th>\n    </tr>\n  </thead>\n  <tbody>\n    <tr>\n      <th>0</th>\n      <td>-766.0</td>\n      <td>128.0</td>\n      <td>0.140625</td>\n      <td>0.304688</td>\n      <td>0.234375</td>\n      <td>0.140625</td>\n      <td>0.304688</td>\n      <td>0.234375</td>\n      <td>-1.0</td>\n    </tr>\n    <tr>\n      <th>1</th>\n      <td>-726.0</td>\n      <td>131.0</td>\n      <td>0.129771</td>\n      <td>0.328244</td>\n      <td>0.229008</td>\n      <td>0.129771</td>\n      <td>0.328244</td>\n      <td>0.229008</td>\n      <td>-1.0</td>\n    </tr>\n    <tr>\n      <th>2</th>\n      <td>-648.0</td>\n      <td>123.0</td>\n      <td>0.146341</td>\n      <td>0.333333</td>\n      <td>0.211382</td>\n      <td>0.146341</td>\n      <td>0.333333</td>\n      <td>0.211382</td>\n      <td>-1.0</td>\n    </tr>\n    <tr>\n      <th>3</th>\n      <td>-764.0</td>\n      <td>124.0</td>\n      <td>0.137097</td>\n      <td>0.322581</td>\n      <td>0.233871</td>\n      <td>0.137097</td>\n      <td>0.322581</td>\n      <td>0.233871</td>\n      <td>-1.0</td>\n    </tr>\n    <tr>\n      <th>4</th>\n      <td>-584.0</td>\n      <td>130.0</td>\n      <td>0.153846</td>\n      <td>0.392308</td>\n      <td>0.184615</td>\n      <td>0.153846</td>\n      <td>0.392308</td>\n      <td>0.184615</td>\n      <td>-1.0</td>\n    </tr>\n  </tbody>\n</table>\n</div>"
     },
     "execution_count": 4,
     "metadata": {},
     "output_type": "execute_result"
    }
   ],
   "source": [
    "from sklearn.preprocessing import MinMaxScaler\n",
    "\n",
    "train_data = pd.read_parquet(\"cod_rna_train.parquet\")\n",
    "test_data = pd.read_parquet(\"cod_rna_test.parquet\")\n",
    "y_train, y_test = train_data[\"y\"], test_data[\"y\"]\n",
    "\n",
    "train_data.head()"
   ],
   "metadata": {
    "collapsed": false,
    "ExecuteTime": {
     "end_time": "2024-01-07T17:41:55.554380100Z",
     "start_time": "2024-01-07T17:41:55.317377800Z"
    }
   },
   "id": "4aa2cd7278558f53"
  },
  {
   "cell_type": "code",
   "execution_count": 9,
   "outputs": [
    {
     "data": {
      "text/plain": "<Axes: ylabel='Frequency'>"
     },
     "execution_count": 9,
     "metadata": {},
     "output_type": "execute_result"
    },
    {
     "data": {
      "text/plain": "<Figure size 640x480 with 1 Axes>",
      "image/png": "[encoded data removed]"
     },
     "metadata": {},
     "output_type": "display_data"
    }
   ],
   "source": [
    "y_train.plot.hist()"
   ],
   "metadata": {
    "collapsed": false,
    "ExecuteTime": {
     "end_time": "2024-01-07T17:46:37.380927100Z",
     "start_time": "2024-01-07T17:46:37.285926800Z"
    }
   },
   "id": "b4032d948f4e49c5"
  },
  {
   "cell_type": "markdown",
   "source": [
    "We're going to perform a lightly unbalanced binary classification. As a metric we'll use the F1-score\n",
    "\n",
    "Let's scale the data"
   ],
   "metadata": {
    "collapsed": false
   },
   "id": "34d62fa75888426"
  },
  {
   "cell_type": "code",
   "execution_count": 10,
   "outputs": [],
   "source": [
    "scaler = MinMaxScaler((-1, 1))\n",
    "X_train_scaled = scaler.fit_transform(train_data.drop(\"y\", axis=1))\n",
    "X_test_scaled = scaler.transform(test_data.drop(\"y\", axis=1))"
   ],
   "metadata": {
    "collapsed": false,
    "ExecuteTime": {
     "end_time": "2024-01-07T17:48:38.606914Z",
     "start_time": "2024-01-07T17:48:38.575913700Z"
    }
   },
   "id": "ff5f331d99df42d"
  },
  {
   "cell_type": "markdown",
   "source": [
    "Let's create a linear regression to use as our baseline for further comparison with SVMs"
   ],
   "metadata": {
    "collapsed": false
   },
   "id": "1cf905bb3b00e5e1"
  },
  {
   "cell_type": "code",
   "execution_count": 15,
   "outputs": [
    {
     "name": "stdout",
     "output_type": "stream",
     "text": [
      "F1-score: 93.28%\n"
     ]
    }
   ],
   "source": [
    "from sklearn.metrics import f1_score\n",
    "from sklearn.linear_model import LogisticRegressionCV\n",
    "\n",
    "logreg_cv_l2 = LogisticRegressionCV(\n",
    "    Cs=100, cv=5, scoring=\"f1\", class_weight=\"balanced\", random_state=0, n_jobs=-1\n",
    ")\n",
    "logreg_cv_l2.fit(X_train_scaled, y_train)\n",
    "\n",
    "y_pred = logreg_cv_l2.predict(X_test_scaled)\n",
    "print(f\"F1-score: {100 * f1_score(y_test, y_pred):.2f}%\")"
   ],
   "metadata": {
    "collapsed": false,
    "ExecuteTime": {
     "end_time": "2024-01-07T17:58:18.614919800Z",
     "start_time": "2024-01-07T17:58:16.608022300Z"
    }
   },
   "id": "f3bdf5588e3140ac"
  },
  {
   "cell_type": "markdown",
   "source": [
    "### Typical SVM\n",
    "Now that our data is prepared let's train a typical support vector machine model\n",
    "The default loss function for scikit-learn's LinearSVC is squared hinge loss. Let's change that to hinge loss to get a typical SVM"
   ],
   "metadata": {
    "collapsed": false
   },
   "id": "63355d2a2fabeab0"
  },
  {
   "cell_type": "code",
   "execution_count": 12,
   "outputs": [
    {
     "name": "stdout",
     "output_type": "stream",
     "text": [
      "F1-score: 93.03%\n"
     ]
    }
   ],
   "source": [
    "from sklearn.svm import LinearSVC\n",
    "\n",
    "clf_linear_svc = LinearSVC(loss=\"hinge\", max_iter=10000, random_state=0, dual=\"auto\")\n",
    "clf_linear_svc.fit(X_train_scaled, y_train)\n",
    "\n",
    "y_pred = clf_linear_svc.predict(X_test_scaled)\n",
    "print(f\"F1-score: {100 * f1_score(y_test, y_pred):.2f}%\")"
   ],
   "metadata": {
    "collapsed": false,
    "ExecuteTime": {
     "end_time": "2024-01-07T17:52:03.901787900Z",
     "start_time": "2024-01-07T17:52:03.766787Z"
    }
   },
   "id": "18aa1b6810001a95"
  },
  {
   "cell_type": "markdown",
   "source": [
    "We can see that even without hyperparameter tuning we can achieve comparable results\n",
    "\n",
    "Let's see what we can get with hyperparameter tuning!"
   ],
   "metadata": {
    "collapsed": false
   },
   "id": "2b0ec4454049d924"
  },
  {
   "cell_type": "code",
   "execution_count": 25,
   "outputs": [
    {
     "name": "stdout",
     "output_type": "stream",
     "text": [
      "best C 64\n",
      "optimal loss hinge\n",
      "F1-score: 93.03%\n"
     ]
    },
    {
     "name": "stderr",
     "output_type": "stream",
     "text": [
      "C:\\Users\\piotr\\AppData\\Local\\Programs\\Python\\Python310\\lib\\site-packages\\sklearn\\svm\\_base.py:1250: ConvergenceWarning: Liblinear failed to converge, increase the number of iterations.\n",
      "  warnings.warn(\n"
     ]
    }
   ],
   "source": [
    "from sklearn.model_selection import GridSearchCV\n",
    "\n",
    "clf = LinearSVC(max_iter=10000, random_state=0, dual=\"auto\")\n",
    "\n",
    "param_grid = {\n",
    "    # \"C\": [0.001, 0.01, 0.1, 1., 10, 100]\n",
    "    # \"C\": np.arange(1,100,10)\n",
    "    \"C\": np.arange(60, 70, 1),\n",
    "    \"loss\": [\"hinge\", \"squared_hinge\"],\n",
    "}\n",
    "\n",
    "cv = GridSearchCV(estimator=clf, param_grid=param_grid, scoring=\"f1\", cv=5, n_jobs=-1)\n",
    "\n",
    "cv.fit(X_train_scaled, y_train)\n",
    "print(\"best C\", cv.best_params_[\"C\"])\n",
    "print(\"optimal loss\", cv.best_params_[\"loss\"])\n",
    "\n",
    "y_pred = cv.predict(X_test_scaled)\n",
    "print(f\"F1-score: {100 * f1_score(y_test, y_pred):.2f}%\")"
   ],
   "metadata": {
    "collapsed": false,
    "ExecuteTime": {
     "end_time": "2024-01-07T18:06:16.701118700Z",
     "start_time": "2024-01-07T18:06:04.327424400Z"
    }
   },
   "id": "ebe478c05c40e3ef"
  },
  {
   "cell_type": "markdown",
   "source": [
    "We can see that our scores are not much better than before. However, in the article authors use kernel SVM. Let's see if that can help us improve our scores\n",
    "\n",
    "Kernel svm is implemented in SVC class. "
   ],
   "metadata": {
    "collapsed": false
   },
   "id": "504017c1e3b9a71f"
  },
  {
   "cell_type": "code",
   "execution_count": 27,
   "outputs": [
    {
     "name": "stdout",
     "output_type": "stream",
     "text": [
      "F1-score: 94.92%\n",
      "Training time   : 10.117630004882812 s\n",
      "Prediction time : 86.36837100982666 s\n"
     ]
    }
   ],
   "source": [
    "from time import time\n",
    "from sklearn.svm import SVC\n",
    "\n",
    "clf_kernel_svc = SVC(cache_size=512, class_weight=\"balanced\", random_state=0)\n",
    "\n",
    "start_training = time()\n",
    "clf_kernel_svc.fit(X_train_scaled, y_train)\n",
    "end_training = time()\n",
    "\n",
    "start_prediction = time()\n",
    "y_pred = clf_kernel_svc.predict(X_test_scaled)\n",
    "end_prediction = time()\n",
    "\n",
    "print(f\"F1-score: {100 * f1_score(y_test, y_pred):.2f}%\")\n",
    "print(f\"Training time   : {end_training - start_training} s\")\n",
    "print(f\"Prediction time : {end_prediction - start_prediction} s\")"
   ],
   "metadata": {
    "collapsed": false,
    "ExecuteTime": {
     "end_time": "2024-01-07T18:12:18.369531700Z",
     "start_time": "2024-01-07T18:10:41.815530200Z"
    }
   },
   "id": "b6e26153ae2b470f"
  },
  {
   "cell_type": "markdown",
   "source": [
    "The high time results from the complexity of the kernel SVM - $O(n^2)$ \n",
    "\n"
   ],
   "metadata": {
    "collapsed": false
   },
   "id": "7cdfafcadc813910"
  },
  {
   "cell_type": "code",
   "execution_count": 29,
   "outputs": [
    {
     "name": "stdout",
     "output_type": "stream",
     "text": [
      "Prediction time: 19.03030562400818 s\n",
      "number of support vectors            :  8449\n",
      "support vectors in the training data :  0.14191651969429747 %\n"
     ]
    }
   ],
   "source": [
    "start_time = time()\n",
    "decision_function = clf_kernel_svc.decision_function(X_train_scaled)\n",
    "end_time = time()\n",
    "prediction_time = end_time - start_time\n",
    "print(f\"Prediction time: {prediction_time} s\")\n",
    "\n",
    "support_vector_indices = np.where(np.abs(decision_function) <= 1 + 1e-15)[0]\n",
    "\n",
    "print(\"number of support vectors            : \", len(support_vector_indices))\n",
    "print(\n",
    "    \"support vectors in the training data : \",\n",
    "    len(support_vector_indices) / X_train_scaled.shape[0],\n",
    "    \"%\",\n",
    ")"
   ],
   "metadata": {
    "collapsed": false,
    "ExecuteTime": {
     "end_time": "2024-01-07T18:16:59.912695400Z",
     "start_time": "2024-01-07T18:16:40.846388200Z"
    }
   },
   "id": "694e096a8fcb5775"
  },
  {
   "cell_type": "markdown",
   "source": [
    "We can check that the prediction time is much shorter for linear regression and linear SVM"
   ],
   "metadata": {
    "collapsed": false
   },
   "id": "e5e69901a352ccff"
  },
  {
   "cell_type": "code",
   "execution_count": 31,
   "outputs": [
    {
     "name": "stdout",
     "output_type": "stream",
     "text": [
      "Prediction time: 0.0019989013671875 s\n",
      "Prediction time: 0.0009999275207519531 s\n"
     ]
    }
   ],
   "source": [
    "start_time = time()\n",
    "_ = clf_linear_svc.decision_function(X_train_scaled)\n",
    "end_time = time()\n",
    "prediction_time = end_time - start_time\n",
    "print(f\"Prediction time: {prediction_time} s\")\n",
    "\n",
    "start_time = time()\n",
    "_ = logreg_cv_l2.decision_function(X_train_scaled)\n",
    "end_time = time()\n",
    "\n",
    "prediction_time = end_time - start_time\n",
    "print(f\"Prediction time: {prediction_time} s\")"
   ],
   "metadata": {
    "collapsed": false,
    "ExecuteTime": {
     "end_time": "2024-01-07T18:17:52.388561900Z",
     "start_time": "2024-01-07T18:17:52.367561800Z"
    }
   },
   "id": "32561bc89a67b5f9"
  },
  {
   "cell_type": "code",
   "execution_count": null,
   "outputs": [],
   "source": [],
   "metadata": {
    "collapsed": false
   },
   "id": "639a07078f233021"
  }
 ],
 "metadata": {
  "kernelspec": {
   "display_name": "Python 3",
   "language": "python",
   "name": "python3"
  },
  "language_info": {
   "codemirror_mode": {
    "name": "ipython",
    "version": 2
   },
   "file_extension": ".py",
   "mimetype": "text/x-python",
   "name": "python",
   "nbconvert_exporter": "python",
   "pygments_lexer": "ipython2",
   "version": "2.7.6"
  }
 },
 "nbformat": 4,
 "nbformat_minor": 5
}
