{
 "cells": [
  {
   "cell_type": "markdown",
   "source": [
    "# Kernel Methods and SVMs"
   ],
   "metadata": {
    "collapsed": false
   },
   "id": "681c4ac7a8f5fdc8"
  },
  {
   "cell_type": "markdown",
   "source": [
    "First install and import needed packages and libraries"
   ],
   "metadata": {
    "collapsed": false
   },
   "id": "f57371ab8198cda7"
  },
  {
   "cell_type": "code",
   "execution_count": 20,
   "outputs": [],
   "source": [
    "# !pip install numpy scipy pandas matplotlib scikit-learn missingno scikit-learn-extras"
   ],
   "metadata": {
    "collapsed": false,
    "ExecuteTime": {
     "end_time": "2024-01-15T18:47:26.447825900Z",
     "start_time": "2024-01-15T18:47:26.217826Z"
    }
   },
   "id": "d66ab04f918278e5"
  },
  {
   "cell_type": "code",
   "execution_count": 21,
   "outputs": [],
   "source": [
    "import numpy as np\n",
    "import pandas as pd"
   ],
   "metadata": {
    "collapsed": false,
    "ExecuteTime": {
     "end_time": "2024-01-15T18:47:26.742825Z",
     "start_time": "2024-01-15T18:47:26.225825Z"
    }
   },
   "id": "7752d74690954a56"
  },
  {
   "cell_type": "markdown",
   "source": [
    "We're going to use the [Iranian Churn Dataset](https://archive.ics.uci.edu/ml/datasets/Iranian+Churn+Dataset) from [Kaggle](https://www.kaggle.com/datasets/royjafari/customer-churn). \n",
    "\n",
    "The dataset was created with real world data of an Iranian telecom company. It provides an information about whether the company's client left them or not.\n",
    "\n",
    "Such dataset can be used to help improving client's satisfaction and maximizing company's earnings.\n",
    "\n",
    "The dataset contains information about costs of False Positive and False Negative classification for each client."
   ],
   "metadata": {
    "collapsed": false
   },
   "id": "ecbaa2889b911975"
  },
  {
   "cell_type": "code",
   "execution_count": 22,
   "outputs": [
    {
     "data": {
      "text/plain": "   Call  Failure  Complains  Subscription  Length  Charge  Amount  \\\n0              8          0                    38               0   \n1              0          0                    39               0   \n2             10          0                    37               0   \n3             10          0                    38               0   \n4              3          0                    38               0   \n\n   Seconds of Use  Frequency of use  Frequency of SMS  \\\n0            4370                71                 5   \n1             318                 5                 7   \n2            2453                60               359   \n3            4198                66                 1   \n4            2393                58                 2   \n\n   Distinct Called Numbers  Age Group  Tariff Plan  Status  Age  \\\n0                       17          3            1       1   30   \n1                        4          2            1       2   25   \n2                       24          3            1       1   30   \n3                       35          1            1       1   15   \n4                       33          1            1       1   15   \n\n   Customer Value         FN        FP  Churn  \n0         197.640   177.8760   69.7640      0  \n1          46.035    41.4315   60.0000      0  \n2        1536.520  1382.8680  203.6520      0  \n3         240.020   216.0180   74.0020      0  \n4         145.805   131.2245   64.5805      0  ",
      "text/html": "<div>\n<style scoped>\n    .dataframe tbody tr th:only-of-type {\n        vertical-align: middle;\n    }\n\n    .dataframe tbody tr th {\n        vertical-align: top;\n    }\n\n    .dataframe thead th {\n        text-align: right;\n    }\n</style>\n<table border=\"1\" class=\"dataframe\">\n  <thead>\n    <tr style=\"text-align: right;\">\n      <th></th>\n      <th>Call  Failure</th>\n      <th>Complains</th>\n      <th>Subscription  Length</th>\n      <th>Charge  Amount</th>\n      <th>Seconds of Use</th>\n      <th>Frequency of use</th>\n      <th>Frequency of SMS</th>\n      <th>Distinct Called Numbers</th>\n      <th>Age Group</th>\n      <th>Tariff Plan</th>\n      <th>Status</th>\n      <th>Age</th>\n      <th>Customer Value</th>\n      <th>FN</th>\n      <th>FP</th>\n      <th>Churn</th>\n    </tr>\n  </thead>\n  <tbody>\n    <tr>\n      <th>0</th>\n      <td>8</td>\n      <td>0</td>\n      <td>38</td>\n      <td>0</td>\n      <td>4370</td>\n      <td>71</td>\n      <td>5</td>\n      <td>17</td>\n      <td>3</td>\n      <td>1</td>\n      <td>1</td>\n      <td>30</td>\n      <td>197.640</td>\n      <td>177.8760</td>\n      <td>69.7640</td>\n      <td>0</td>\n    </tr>\n    <tr>\n      <th>1</th>\n      <td>0</td>\n      <td>0</td>\n      <td>39</td>\n      <td>0</td>\n      <td>318</td>\n      <td>5</td>\n      <td>7</td>\n      <td>4</td>\n      <td>2</td>\n      <td>1</td>\n      <td>2</td>\n      <td>25</td>\n      <td>46.035</td>\n      <td>41.4315</td>\n      <td>60.0000</td>\n      <td>0</td>\n    </tr>\n    <tr>\n      <th>2</th>\n      <td>10</td>\n      <td>0</td>\n      <td>37</td>\n      <td>0</td>\n      <td>2453</td>\n      <td>60</td>\n      <td>359</td>\n      <td>24</td>\n      <td>3</td>\n      <td>1</td>\n      <td>1</td>\n      <td>30</td>\n      <td>1536.520</td>\n      <td>1382.8680</td>\n      <td>203.6520</td>\n      <td>0</td>\n    </tr>\n    <tr>\n      <th>3</th>\n      <td>10</td>\n      <td>0</td>\n      <td>38</td>\n      <td>0</td>\n      <td>4198</td>\n      <td>66</td>\n      <td>1</td>\n      <td>35</td>\n      <td>1</td>\n      <td>1</td>\n      <td>1</td>\n      <td>15</td>\n      <td>240.020</td>\n      <td>216.0180</td>\n      <td>74.0020</td>\n      <td>0</td>\n    </tr>\n    <tr>\n      <th>4</th>\n      <td>3</td>\n      <td>0</td>\n      <td>38</td>\n      <td>0</td>\n      <td>2393</td>\n      <td>58</td>\n      <td>2</td>\n      <td>33</td>\n      <td>1</td>\n      <td>1</td>\n      <td>1</td>\n      <td>15</td>\n      <td>145.805</td>\n      <td>131.2245</td>\n      <td>64.5805</td>\n      <td>0</td>\n    </tr>\n  </tbody>\n</table>\n</div>"
     },
     "execution_count": 22,
     "metadata": {},
     "output_type": "execute_result"
    }
   ],
   "source": [
    "import matplotlib.pyplot as plt\n",
    "\n",
    "churn_df = pd.read_csv(\"customer_churn_data.csv\")\n",
    "churn_df.head()"
   ],
   "metadata": {
    "collapsed": false,
    "ExecuteTime": {
     "end_time": "2024-01-15T18:47:26.745827100Z",
     "start_time": "2024-01-15T18:47:26.240825700Z"
    }
   },
   "id": "1afc11baa9c02ee5"
  },
  {
   "cell_type": "code",
   "execution_count": 23,
   "outputs": [],
   "source": [
    "y = churn_df.pop(\"Churn\")\n",
    "fn_cost = churn_df.pop(\"FN\")\n",
    "fp_cost = churn_df.pop(\"FP\")"
   ],
   "metadata": {
    "collapsed": false,
    "ExecuteTime": {
     "end_time": "2024-01-15T18:47:26.770825300Z",
     "start_time": "2024-01-15T18:47:26.257825400Z"
    }
   },
   "id": "f29a58bf710d0caa"
  },
  {
   "cell_type": "code",
   "execution_count": 24,
   "outputs": [
    {
     "data": {
      "text/plain": "[Text(0.5, 0, 'Class'), Text(0, 0.5, 'Number of clients')]"
     },
     "execution_count": 24,
     "metadata": {},
     "output_type": "execute_result"
    },
    {
     "data": {
      "text/plain": "<Figure size 640x480 with 1 Axes>",
      "image/png": "[encoded data removed]"
     },
     "metadata": {},
     "output_type": "display_data"
    }
   ],
   "source": [
    "ax = y.value_counts()[[0, 1]].plot.bar(\n",
    "    x=\"class\", y=\"Number of clients\", rot=0, title=\"Class distribution\"\n",
    ")\n",
    "ax.set(xlabel=\"Class\", ylabel=\"Number of clients\")"
   ],
   "metadata": {
    "collapsed": false,
    "ExecuteTime": {
     "end_time": "2024-01-15T18:47:26.773824100Z",
     "start_time": "2024-01-15T18:47:26.275826900Z"
    }
   },
   "id": "df874f762c268cfc"
  },
  {
   "cell_type": "markdown",
   "source": [
    "Let's split and scale our data"
   ],
   "metadata": {
    "collapsed": false
   },
   "id": "195f442e653e8708"
  },
  {
   "cell_type": "code",
   "execution_count": 25,
   "outputs": [],
   "source": [
    "from sklearn.model_selection import train_test_split\n",
    "from sklearn.preprocessing import StandardScaler\n",
    "\n",
    "(\n",
    "    X_train,\n",
    "    X_test,\n",
    "    y_train,\n",
    "    y_test,\n",
    "    fp_cost_train,\n",
    "    fp_cost_test,\n",
    "    fn_cost_train,\n",
    "    fn_cost_test,\n",
    ") = train_test_split(\n",
    "    churn_df, y, fp_cost, fn_cost, test_size=0.25, random_state=0, stratify=y\n",
    ")\n",
    "\n",
    "scaler = StandardScaler()\n",
    "X_train = scaler.fit_transform(X_train)\n",
    "X_test = scaler.transform(X_test)"
   ],
   "metadata": {
    "collapsed": false,
    "ExecuteTime": {
     "end_time": "2024-01-15T18:47:26.773824100Z",
     "start_time": "2024-01-15T18:47:26.354825400Z"
    }
   },
   "id": "bdb8996800d4f9"
  },
  {
   "cell_type": "markdown",
   "source": [
    "Let's create a linear regression to use as our baseline for further comparison"
   ],
   "metadata": {
    "collapsed": false
   },
   "id": "46f8b81a7c86bd21"
  },
  {
   "cell_type": "code",
   "execution_count": 26,
   "outputs": [
    {
     "name": "stdout",
     "output_type": "stream",
     "text": [
      "F1-score: 61.05%\n"
     ]
    }
   ],
   "source": [
    "from sklearn.metrics import f1_score\n",
    "from sklearn.linear_model import LogisticRegressionCV\n",
    "\n",
    "logreg_cv_l2 = LogisticRegressionCV(\n",
    "    Cs=100, cv=5, scoring=\"f1\", class_weight=\"balanced\", random_state=0, n_jobs=-1\n",
    ")\n",
    "logreg_cv_l2.fit(X_train, y_train)\n",
    "\n",
    "y_pred = logreg_cv_l2.predict(X_test)\n",
    "print(f\"F1-score: {100 * f1_score(y_test, y_pred):.2f}%\")"
   ],
   "metadata": {
    "collapsed": false,
    "ExecuteTime": {
     "end_time": "2024-01-15T18:47:27.256444100Z",
     "start_time": "2024-01-15T18:47:26.368825300Z"
    }
   },
   "id": "b89675cecf255619"
  },
  {
   "cell_type": "markdown",
   "source": [
    "Now let's train a linear SVM classifier and see how it compares with linear regression"
   ],
   "metadata": {
    "collapsed": false
   },
   "id": "35384ad26548f9d1"
  },
  {
   "cell_type": "markdown",
   "source": [
    "Both baseline score and SVM score are not great. Let's see if we can improve the score with Kernel SVM"
   ],
   "metadata": {
    "collapsed": false
   },
   "id": "41b51b81bc75b6c2"
  },
  {
   "cell_type": "code",
   "execution_count": 28,
   "outputs": [
    {
     "name": "stdout",
     "output_type": "stream",
     "text": [
      "F1-score: 65.71%\n",
      "Training time: 0.02899932861328125 s\n"
     ]
    }
   ],
   "source": [
    "from sklearn.svm import SVC\n",
    "\n",
    "clf_kernel_svc = SVC(cache_size=512, class_weight=\"balanced\", random_state=0)\n",
    "start_time = time()\n",
    "clf_kernel_svc.fit(X_train, y_train)\n",
    "end_time = time()\n",
    "training_time = end_time - start_time\n",
    "\n",
    "y_pred = clf_kernel_svc.predict(X_test)\n",
    "\n",
    "print(f\"F1-score: {100 * f1_score(y_test, y_pred):.2f}%\")\n",
    "print(f\"Training time: {training_time} s\")"
   ],
   "metadata": {
    "collapsed": false,
    "ExecuteTime": {
     "end_time": "2024-01-15T18:47:29.572735300Z",
     "start_time": "2024-01-15T18:47:29.509735Z"
    }
   },
   "id": "18374de0ee82c68a"
  },
  {
   "cell_type": "markdown",
   "source": [
    "The improvement is noticeable but still not as great as we would like.\n",
    "\n",
    "Maybe tuning the hyperparameters will help? We'll try a few different kernels"
   ],
   "metadata": {
    "collapsed": false
   },
   "id": "62fc209b8ae51011"
  },
  {
   "cell_type": "code",
   "execution_count": 29,
   "outputs": [
    {
     "name": "stdout",
     "output_type": "stream",
     "text": [
      "F1-score: 87.02%\n",
      "Training time: 30.119460105895996 s\n"
     ]
    }
   ],
   "source": [
    "clf = SVC(cache_size=512, class_weight=\"balanced\", random_state=0)\n",
    "\n",
    "param_grid = [\n",
    "    {\n",
    "        \"kernel\": [\"rbf\"],\n",
    "        \"C\": np.linspace(1e-2, 1e2, num=20),\n",
    "        \"gamma\": [\"scale\"] + list(np.linspace(1e-1, 1e1, num=20)),\n",
    "    },\n",
    "    {\n",
    "        \"kernel\": [\"poly\"],\n",
    "        \"C\": np.linspace(1e-3, 1e3, 100),\n",
    "        \"degree\": [2, 3, 4, 5],\n",
    "    },\n",
    "    {\n",
    "        \"kernel\": [\"sigmoid\"],\n",
    "        \"C\": np.linspace(1e-2, 1e2, num=20),\n",
    "        \"gamma\": [\"scale\"] + list(np.linspace(1e-1, 1e1, num=20)),\n",
    "    },\n",
    "]\n",
    "\n",
    "\n",
    "cv = GridSearchCV(estimator=clf, param_grid=param_grid, scoring=\"f1\", cv=5, n_jobs=-1)\n",
    "\n",
    "start_time = time()\n",
    "cv.fit(X_train, y_train)\n",
    "end_time = time()\n",
    "training_time = end_time - start_time\n",
    "\n",
    "y_pred = cv.predict(X_test)\n",
    "\n",
    "print(f\"F1-score: {100 * f1_score(y_test, y_pred):.2f}%\")\n",
    "print(f\"Training time: {training_time} s\")"
   ],
   "metadata": {
    "collapsed": false,
    "ExecuteTime": {
     "end_time": "2024-01-15T18:47:59.732193Z",
     "start_time": "2024-01-15T18:47:29.572735300Z"
    }
   },
   "id": "54cefe15cd85ddf2"
  },
  {
   "cell_type": "code",
   "execution_count": 27,
   "outputs": [
    {
     "name": "stdout",
     "output_type": "stream",
     "text": [
      "training time:  2.2390427589416504 s\n",
      "best C:  52.48074602497766\n",
      "F1-score: 59.13%\n"
     ]
    }
   ],
   "source": [
    "from time import time\n",
    "from sklearn.model_selection import GridSearchCV\n",
    "from sklearn.svm import LinearSVC\n",
    "\n",
    "clf = LinearSVC(\n",
    "    loss=\"hinge\", max_iter=10000, random_state=0, class_weight=\"balanced\", dual=\"auto\"\n",
    ")\n",
    "\n",
    "param_grid = {\"C\": np.power(10.0, np.arange(-2, 2, 4 / 100))}\n",
    "\n",
    "cv = GridSearchCV(estimator=clf, param_grid=param_grid, scoring=\"f1\", cv=5, n_jobs=-1)\n",
    "\n",
    "start_time = time()\n",
    "cv.fit(X_train, y_train)\n",
    "end_time = time()\n",
    "\n",
    "prediction_time = end_time - start_time\n",
    "\n",
    "print(\"prediction time: \", prediction_time, \"s\")\n",
    "print(\"best C: \", cv.best_params_[\"C\"])\n",
    "\n",
    "y_pred = cv.predict(X_test)\n",
    "print(f\"F1-score: {100 * f1_score(y_test, y_pred):.2f}%\")"
   ],
   "metadata": {
    "collapsed": false,
    "ExecuteTime": {
     "start_time": "2024-01-15T18:47:27.254443900Z"
    }
   },
   "id": "2df528db276bd636"
  },
  {
   "cell_type": "markdown",
   "source": [
    "The improvement is tremendous. Let's see what parameters enabled us to get this score"
   ],
   "metadata": {
    "collapsed": false
   },
   "id": "8c84decac93c2926"
  },
  {
   "cell_type": "code",
   "execution_count": 30,
   "outputs": [
    {
     "name": "stdout",
     "output_type": "stream",
     "text": [
      "best C : 21.060526315789474\n",
      "best gamma : 0.6210526315789474\n",
      "best kernel : rbf\n"
     ]
    }
   ],
   "source": [
    "for param in cv.best_params_:\n",
    "    print(f\"best {param} : {cv.best_params_[param]}\")"
   ],
   "metadata": {
    "collapsed": false,
    "ExecuteTime": {
     "end_time": "2024-01-15T18:47:59.769193300Z",
     "start_time": "2024-01-15T18:47:59.724193500Z"
    }
   },
   "id": "bc0d4ffb75fb1c49"
  },
  {
   "cell_type": "markdown",
   "source": [
    "Now let's see the best validation score for each kernel!"
   ],
   "metadata": {
    "collapsed": false
   },
   "id": "84663f845d625605"
  },
  {
   "cell_type": "code",
   "execution_count": 31,
   "outputs": [
    {
     "name": "stdout",
     "output_type": "stream",
     "text": [
      "Best validation F1-score for rbf : 85.99%\n",
      "{'C': 21.060526315789474, 'gamma': 0.6210526315789474, 'kernel': 'rbf'}\n",
      "\n",
      "Best validation F1-score for poly : 85.51%\n",
      "{'C': 1000.0, 'degree': 5, 'kernel': 'poly'}\n",
      "\n",
      "Best validation F1-score for sigmoid : 63.44%\n",
      "{'C': 0.01, 'gamma': 'scale', 'kernel': 'sigmoid'}\n"
     ]
    }
   ],
   "source": [
    "results_df = pd.DataFrame(cv.cv_results_)\n",
    "\n",
    "kernels = [\"rbf\", \"poly\", \"sigmoid\"]\n",
    "\n",
    "for k in kernels:\n",
    "    score = results_df.loc[results_df[\"param_kernel\"] == k][\"mean_test_score\"].max()\n",
    "    print(f\"Best validation F1-score for {k} : {100 * score:.2f}%\")\n",
    "    print(results_df.loc[results_df[\"mean_test_score\"] == score].get(\"params\").iloc[0])\n",
    "    print()"
   ],
   "metadata": {
    "collapsed": false,
    "ExecuteTime": {
     "end_time": "2024-01-15T18:47:59.782193500Z",
     "start_time": "2024-01-15T18:47:59.741194700Z"
    }
   },
   "id": "72b7d89f0f8bce0b"
  },
  {
   "cell_type": "markdown",
   "source": [
    "Okay. Let's try to train a model with these parameters and see the test score for each model "
   ],
   "metadata": {
    "collapsed": false
   },
   "id": "b336c2cb9d0441f2"
  },
  {
   "cell_type": "code",
   "execution_count": 32,
   "outputs": [
    {
     "name": "stdout",
     "output_type": "stream",
     "text": [
      "F1-score for rbf : 87.02%\n",
      "Training time: 0.038999319076538086 s\n",
      "F1-score for poly : 87.22%\n",
      "Training time: 0.1530005931854248 s\n",
      "F1-score for sigmoid : 58.55%\n",
      "Training time: 0.07500052452087402 s\n"
     ]
    }
   ],
   "source": [
    "for k in kernels:\n",
    "    score = results_df.loc[results_df[\"param_kernel\"] == k][\"mean_test_score\"].max()\n",
    "    params = (\n",
    "        results_df.loc[results_df[\"mean_test_score\"] == score].get(\"params\").iloc[0]\n",
    "    )\n",
    "\n",
    "    clf_kernel_svc = SVC(\n",
    "        cache_size=512,\n",
    "        class_weight=\"balanced\",\n",
    "        random_state=0,\n",
    "        **params,\n",
    "    )\n",
    "    start_time = time()\n",
    "    clf_kernel_svc.fit(X_train, y_train)\n",
    "    end_time = time()\n",
    "    training_time = end_time - start_time\n",
    "\n",
    "    y_pred = clf_kernel_svc.predict(X_test)\n",
    "    print(f\"F1-score for {k} : {100 * f1_score(y_test, y_pred):.2f}%\")\n",
    "    print(f\"Training time: {training_time} s\")\n",
    "    print()"
   ],
   "metadata": {
    "collapsed": false,
    "ExecuteTime": {
     "end_time": "2024-01-15T18:48:00.075194Z",
     "start_time": "2024-01-15T18:47:59.757193600Z"
    }
   },
   "id": "a8bf8680aa6a00"
  },
  {
   "cell_type": "markdown",
   "source": [
    "During the validation, the rbf kernel performed the best. However, the testing shows that the polynomial kernel worked better\n",
    "\n",
    "Let's save the best parameters for later"
   ],
   "metadata": {
    "collapsed": false
   },
   "id": "a0a2eed496a64a17"
  },
  {
   "cell_type": "code",
   "execution_count": 33,
   "outputs": [],
   "source": [
    "score = results_df.loc[results_df[\"param_kernel\"] == \"poly\"][\"mean_test_score\"].max()\n",
    "best_kernel_params = (\n",
    "    results_df.loc[results_df[\"mean_test_score\"] == score].get(\"params\").iloc[0]\n",
    ")"
   ],
   "metadata": {
    "collapsed": false,
    "ExecuteTime": {
     "end_time": "2024-01-15T18:48:00.093193300Z",
     "start_time": "2024-01-15T18:48:00.074194100Z"
    }
   },
   "id": "9960aa271861e3d3"
  },
  {
   "cell_type": "markdown",
   "source": [
    "\n",
    "\n",
    "Now let's try to create a scoring function that will take into account the FN and FP values "
   ],
   "metadata": {
    "collapsed": false
   },
   "id": "6c3988a4182c2a61"
  },
  {
   "cell_type": "code",
   "execution_count": 34,
   "outputs": [],
   "source": [
    "from typing import Union\n",
    "\n",
    "from sklearn.metrics import make_scorer\n",
    "\n",
    "\n",
    "def churn_cost(\n",
    "    y_true: Union[np.ndarray, pd.Series],\n",
    "    y_pred: Union[np.ndarray, pd.Series],\n",
    "    fp_cost: Union[np.ndarray, pd.Series],\n",
    "    fn_cost: Union[np.ndarray, pd.Series],\n",
    ") -> float:\n",
    "    # make sure all data is Numpy arrays\n",
    "    y_true = np.array(y_true)\n",
    "    y_pred = np.array(y_pred)\n",
    "    fp_cost = np.array(fp_cost)\n",
    "    fn_cost = np.array(fn_cost)\n",
    "\n",
    "    # check which rows are for FP and FN\n",
    "    FP = (y_true == 0) & (y_pred == 1)\n",
    "    FN = (y_true == 1) & (y_pred == 0)\n",
    "\n",
    "    # get costs for FP and FN\n",
    "    fp_real_cost = FP * fp_cost\n",
    "    fn_real_cost = FN * fn_cost\n",
    "\n",
    "    # return sum of costs\n",
    "    return fp_real_cost.sum() + fn_real_cost.sum()\n",
    "\n",
    "\n",
    "churn_cost_score = make_scorer(\n",
    "    churn_cost,\n",
    "    average=\"macro\",\n",
    "    greater_is_better=False,\n",
    ")"
   ],
   "metadata": {
    "collapsed": false,
    "ExecuteTime": {
     "end_time": "2024-01-15T18:48:00.112192800Z",
     "start_time": "2024-01-15T18:48:00.091195300Z"
    }
   },
   "id": "e4ff7d41d4371924"
  },
  {
   "cell_type": "markdown",
   "source": [
    "now let's create two dummy classifiers. One that will always predict the positive class and one that always predicts negative"
   ],
   "metadata": {
    "collapsed": false
   },
   "id": "125ae1d14e091d3a"
  },
  {
   "cell_type": "code",
   "execution_count": 35,
   "outputs": [
    {
     "name": "stdout",
     "output_type": "stream",
     "text": [
      "F1-score for all positive predictions : 27.19%\n",
      "F1-score for all negative predictions : 0.00%\n",
      "Cost score for all positive predictions : 69593.20\n",
      "Cost score for all negative predictions : 15871.64\n"
     ]
    }
   ],
   "source": [
    "def DummyPredict(X, churn):\n",
    "    return np.full(X.shape[0], churn)\n",
    "\n",
    "\n",
    "y_pred_p = DummyPredict(X_test, 1)\n",
    "y_pred_n = DummyPredict(X_test, 0)\n",
    "\n",
    "print(\n",
    "    f\"F1-score for all positive predictions : {100 * f1_score(y_test, y_pred_p):.2f}%\"\n",
    ")\n",
    "print(\n",
    "    f\"F1-score for all negative predictions : {100 * f1_score(y_test, y_pred_n):.2f}%\"\n",
    ")\n",
    "\n",
    "print(\n",
    "    f\"Cost score for all positive predictions : {churn_cost(y_test, y_pred_p, fp_cost_test, fn_cost_test):.2f}\"\n",
    ")\n",
    "print(\n",
    "    f\"Cost score for all negative predictions : {churn_cost(y_test, y_pred_n, fp_cost_test, fn_cost_test):.2f}\"\n",
    ")"
   ],
   "metadata": {
    "collapsed": false,
    "ExecuteTime": {
     "end_time": "2024-01-15T18:48:00.127193100Z",
     "start_time": "2024-01-15T18:48:00.105192500Z"
    }
   },
   "id": "77319a1d85cc2480"
  },
  {
   "cell_type": "markdown",
   "source": [
    "We can see that unfortunately the cost of letting all unsatisfied clients go is much lower than the cost of trying to assume that all clients might leave\n",
    "\n",
    "How can SVM help us lower that cost?"
   ],
   "metadata": {
    "collapsed": false
   },
   "id": "2241c4c3d8001cbc"
  },
  {
   "cell_type": "code",
   "execution_count": 36,
   "outputs": [
    {
     "name": "stdout",
     "output_type": "stream",
     "text": [
      "churn cost: 11629.98\n",
      "F1-score  : 87.22%\n",
      "churn cost: 3700.22\n"
     ]
    }
   ],
   "source": [
    "lin_clf = LinearSVC(\n",
    "    loss=\"hinge\",\n",
    "    max_iter=10000,\n",
    "    random_state=0,\n",
    "    class_weight=\"balanced\",\n",
    "    C=52.48074602497766,\n",
    "    dual=\"auto\",\n",
    ")\n",
    "lin_clf.fit(X_train, y_train)\n",
    "y_pred = lin_clf.predict(X_test)\n",
    "print(f\"churn cost: {churn_cost(y_test, y_pred, fp_cost_test, fn_cost_test):.2f}\")\n",
    "\n",
    "\n",
    "clf_kernel_svc = SVC(\n",
    "    cache_size=512,\n",
    "    class_weight=\"balanced\",\n",
    "    random_state=0,\n",
    "    **best_kernel_params,\n",
    ")\n",
    "clf_kernel_svc.fit(X_train, y_train)\n",
    "y_pred = clf_kernel_svc.predict(X_test)\n",
    "print(f\"F1-score  : {100 * f1_score(y_test, y_pred):.2f}%\")\n",
    "print(f\"churn cost: {churn_cost(y_test, y_pred, fp_cost_test, fn_cost_test):.2f}\")"
   ],
   "metadata": {
    "collapsed": false,
    "ExecuteTime": {
     "end_time": "2024-01-15T18:48:00.391822700Z",
     "start_time": "2024-01-15T18:48:00.123194600Z"
    }
   },
   "id": "d6d82410963f0493"
  },
  {
   "cell_type": "markdown",
   "source": [
    "We can lower the cost over 4 times! This means very large fund savings especially for companies that operate on a very large scale"
   ],
   "metadata": {
    "collapsed": false
   },
   "id": "bc8d51cfa01b59a2"
  },
  {
   "cell_type": "markdown",
   "source": [
    "## Kernel approximation - TODO\n",
    "\n",
    "When using kernel SVM is too computationally expensive we can use group kernel approximation algorithm to approximate the kernel features.\n",
    "\n",
    "`Nyström` method is a universal algorithm that can approximate any kernel. It approximates the matrix using truncated SVD.\n",
    "We're also going to use scikit-learn's `RBGSampler` and `Fastfood` samplers"
   ],
   "metadata": {
    "collapsed": false
   },
   "id": "a2584be57c92b523"
  },
  {
   "cell_type": "code",
   "execution_count": 37,
   "outputs": [
    {
     "name": "stdout",
     "output_type": "stream",
     "text": [
      "linear svm\n",
      "Training time: 0.013000965118408203 s\n",
      "F1-score     : 59.13%\n",
      "churn cost   : 11629.98\n",
      "\n",
      "kernel svm\n",
      "Training time: 0.028000354766845703 s\n",
      "F1-score     : 65.71%\n",
      "churn cost   : 9129.26\n"
     ]
    }
   ],
   "source": [
    "lin_svm = LinearSVC(\n",
    "    loss=\"hinge\", max_iter=10000, random_state=0, class_weight=\"balanced\", dual=\"auto\"\n",
    ")\n",
    "\n",
    "kernel_svm = SVC(\n",
    "    cache_size=512,\n",
    "    class_weight=\"balanced\",\n",
    "    random_state=0,\n",
    "    kernel=\"rbf\",\n",
    ")\n",
    "\n",
    "start_time = time()\n",
    "lin_svm.fit(X_train, y_train)\n",
    "end_time = time()\n",
    "y_pred = lin_svm.predict(X_test)\n",
    "print(\"linear svm\")\n",
    "print(f\"Training time: {end_time - start_time} s\")\n",
    "print(f\"F1-score     : {100 * f1_score(y_test, y_pred):.2f}%\")\n",
    "print(f\"churn cost   : {churn_cost(y_test, y_pred, fp_cost_test, fn_cost_test):.2f}\")\n",
    "print()\n",
    "\n",
    "start_time = time()\n",
    "kernel_svm.fit(X_train, y_train)\n",
    "end_time = time()\n",
    "y_pred = kernel_svm.predict(X_test)\n",
    "print(\"kernel svm\")\n",
    "print(f\"Training time: {end_time - start_time} s\")\n",
    "print(f\"F1-score     : {100 * f1_score(y_test, y_pred):.2f}%\")\n",
    "print(f\"churn cost   : {churn_cost(y_test, y_pred, fp_cost_test, fn_cost_test):.2f}\")\n",
    "print()"
   ],
   "metadata": {
    "collapsed": false,
    "ExecuteTime": {
     "end_time": "2024-01-15T18:48:00.494822300Z",
     "start_time": "2024-01-15T18:48:00.395822100Z"
    }
   },
   "id": "cb08f7e8bfd35ee1"
  },
  {
   "cell_type": "code",
   "execution_count": 38,
   "outputs": [],
   "source": [
    "from sklearn_extra.kernel_approximation import Fastfood\n",
    "from sklearn.kernel_approximation import RBFSampler, Nystroem\n",
    "from sklearn.pipeline import Pipeline\n",
    "\n",
    "pipe_rbfs = Pipeline(\n",
    "    [\n",
    "        (\"rbfs\", RBFSampler()),\n",
    "        (\n",
    "            \"svm\",\n",
    "            LinearSVC(\n",
    "                loss=\"hinge\",\n",
    "                max_iter=10000,\n",
    "                random_state=0,\n",
    "                class_weight=\"balanced\",\n",
    "                dual=\"auto\",\n",
    "            ),\n",
    "        ),\n",
    "    ]\n",
    ")\n",
    "\n",
    "pipe_fastfood = Pipeline(\n",
    "    [\n",
    "        (\"fastfood\", Fastfood()),\n",
    "        (\n",
    "            \"svm\",\n",
    "            LinearSVC(\n",
    "                loss=\"hinge\",\n",
    "                max_iter=10000,\n",
    "                random_state=0,\n",
    "                class_weight=\"balanced\",\n",
    "                dual=\"auto\",\n",
    "            ),\n",
    "        ),\n",
    "    ]\n",
    ")\n",
    "\n",
    "pipe_nystroem = Pipeline(\n",
    "    [\n",
    "        (\"rbfs\", Nystroem()),\n",
    "        (\n",
    "            \"svm\",\n",
    "            LinearSVC(\n",
    "                loss=\"hinge\",\n",
    "                max_iter=10000,\n",
    "                random_state=0,\n",
    "                class_weight=\"balanced\",\n",
    "                dual=\"auto\",\n",
    "            ),\n",
    "        ),\n",
    "    ]\n",
    ")\n",
    "\n",
    "pipes = [pipe_rbfs, pipe_fastfood, pipe_nystroem]\n",
    "names = [\"rbfs\", \"fastfood\", \"nystroem\"]"
   ],
   "metadata": {
    "collapsed": false,
    "ExecuteTime": {
     "end_time": "2024-01-15T18:48:00.495822600Z",
     "start_time": "2024-01-15T18:48:00.472821900Z"
    }
   },
   "id": "c926249763312505"
  },
  {
   "cell_type": "code",
   "execution_count": 39,
   "outputs": [
    {
     "name": "stdout",
     "output_type": "stream",
     "text": [
      "rbfs\n",
      "Training time: 0.026999473571777344 s\n",
      "F1-score     : 61.72%\n",
      "churn cost   : 12669.76\n",
      "fastfood\n",
      "Training time: 0.13000249862670898 s\n",
      "F1-score     : 69.68%\n",
      "churn cost   : 10265.32\n",
      "\n",
      "nystroem\n",
      "Training time: 0.028999805450439453 s\n",
      "F1-score     : 64.94%\n",
      "churn cost   : 10137.79\n"
     ]
    }
   ],
   "source": [
    "for pipe, name in zip(pipes, names):\n",
    "    start_time = time()\n",
    "    pipe.fit(X_train, y_train)\n",
    "    end_time = time()\n",
    "    y_pred = pipe.predict(X_test)\n",
    "    print(name)\n",
    "    print(f\"Training time: {end_time - start_time} s\")\n",
    "    print(f\"F1-score     : {100 * f1_score(y_test, y_pred):.2f}%\")\n",
    "    print(\n",
    "        f\"churn cost   : {churn_cost(y_test, y_pred, fp_cost_test, fn_cost_test):.2f}\"\n",
    "    )\n",
    "    print()"
   ],
   "metadata": {
    "collapsed": false,
    "ExecuteTime": {
     "end_time": "2024-01-15T18:48:00.692450100Z",
     "start_time": "2024-01-15T18:48:00.485823200Z"
    }
   },
   "id": "779225122becc0b"
  },
  {
   "cell_type": "markdown",
   "source": [
    "Let's tune hyperparameters - C, gamma and n_components - for one of the pipelines"
   ],
   "metadata": {
    "collapsed": false
   },
   "id": "b7219ba765076617"
  },
  {
   "cell_type": "code",
   "execution_count": 40,
   "outputs": [
    {
     "name": "stdout",
     "output_type": "stream",
     "text": [
      "Training time: 73.4363865852356 s\n",
      "F1-score     : 80.00%\n",
      "churn cost   : 4798.14\n",
      "{'nystroem__gamma': 0.06210526315789474, 'nystroem__n_components': 120, 'svm__C': 111.11200000000001}\n"
     ]
    },
    {
     "name": "stderr",
     "output_type": "stream",
     "text": [
      "C:\\Users\\piotr\\AppData\\Local\\Programs\\Python\\Python310\\lib\\site-packages\\sklearn\\svm\\_base.py:1250: ConvergenceWarning: Liblinear failed to converge, increase the number of iterations.\n",
      "  warnings.warn(\n"
     ]
    }
   ],
   "source": [
    "pipe_nystroem = Pipeline(\n",
    "    [\n",
    "        (\"nystroem\", Nystroem()),\n",
    "        (\n",
    "            \"svm\",\n",
    "            LinearSVC(\n",
    "                loss=\"hinge\",\n",
    "                max_iter=10000,\n",
    "                random_state=0,\n",
    "                class_weight=\"balanced\",\n",
    "                dual=\"auto\",\n",
    "            ),\n",
    "        ),\n",
    "    ]\n",
    ")\n",
    "\n",
    "param_grid = {\n",
    "    \"svm__C\": np.linspace(1e-3, 1e3, 10),\n",
    "    \"nystroem__gamma\": list(np.linspace(1e-2, 1, num=20)),\n",
    "    \"nystroem__n_components\": np.arange(80, 130, 10),\n",
    "}\n",
    "cv = GridSearchCV(\n",
    "    estimator=pipe_nystroem, param_grid=param_grid, scoring=\"f1\", cv=5, n_jobs=-1\n",
    ")\n",
    "\n",
    "start_time = time()\n",
    "cv.fit(X_train, y_train)\n",
    "end_time = time()\n",
    "y_pred = cv.predict(X_test)\n",
    "print(f\"Training time: {end_time - start_time} s\")\n",
    "print(f\"F1-score     : {100 * f1_score(y_test, y_pred):.2f}%\")\n",
    "print(f\"churn cost   : {churn_cost(y_test, y_pred, fp_cost_test, fn_cost_test):.2f}\")\n",
    "print(cv.best_params_)"
   ],
   "metadata": {
    "collapsed": false,
    "ExecuteTime": {
     "end_time": "2024-01-15T18:49:14.137836600Z",
     "start_time": "2024-01-15T18:48:00.692450100Z"
    }
   },
   "id": "1a70e4235e364137"
  },
  {
   "cell_type": "code",
   "execution_count": 41,
   "outputs": [
    {
     "name": "stdout",
     "output_type": "stream",
     "text": [
      "Training time: 194.35895442962646 s\n",
      "F1-score     : 79.26%\n",
      "churn cost   : 6052.96\n",
      "{'fastfood__n_components': 120, 'fastfood__sigma': 1.0606601717798214, 'svm__C': 111.11200000000001}\n"
     ]
    },
    {
     "name": "stderr",
     "output_type": "stream",
     "text": [
      "C:\\Users\\piotr\\AppData\\Local\\Programs\\Python\\Python310\\lib\\site-packages\\sklearn\\svm\\_base.py:1250: ConvergenceWarning: Liblinear failed to converge, increase the number of iterations.\n",
      "  warnings.warn(\n"
     ]
    }
   ],
   "source": [
    "pipe_fastfood = Pipeline(\n",
    "    [\n",
    "        (\"fastfood\", Fastfood()),\n",
    "        (\n",
    "            \"svm\",\n",
    "            LinearSVC(\n",
    "                loss=\"hinge\",\n",
    "                max_iter=10000,\n",
    "                random_state=0,\n",
    "                class_weight=\"balanced\",\n",
    "                dual=\"auto\",\n",
    "            ),\n",
    "        ),\n",
    "    ]\n",
    ")\n",
    "\n",
    "param_grid = {\n",
    "    \"svm__C\": np.linspace(1e-3, 1e3, 10),\n",
    "    \"fastfood__sigma\": np.linspace(0.5, 1.5, 7) * np.sqrt(1 / 2),\n",
    "    \"fastfood__n_components\": np.arange(80, 130, 10),\n",
    "}\n",
    "cv = GridSearchCV(\n",
    "    estimator=pipe_fastfood, param_grid=param_grid, scoring=\"f1\", cv=5, n_jobs=-1\n",
    ")\n",
    "\n",
    "start_time = time()\n",
    "cv.fit(X_train, y_train)\n",
    "end_time = time()\n",
    "y_pred = cv.predict(X_test)\n",
    "print(f\"Training time: {end_time - start_time} s\")\n",
    "print(f\"F1-score     : {100 * f1_score(y_test, y_pred):.2f}%\")\n",
    "print(f\"churn cost   : {churn_cost(y_test, y_pred, fp_cost_test, fn_cost_test):.2f}\")\n",
    "print(cv.best_params_)"
   ],
   "metadata": {
    "collapsed": false,
    "ExecuteTime": {
     "end_time": "2024-01-15T18:56:45.805569300Z",
     "start_time": "2024-01-15T18:53:31.409615600Z"
    }
   },
   "id": "fe457233557d840f"
  },
  {
   "cell_type": "markdown",
   "source": [
    "We're not getting closer to the scores achieved using kernel svm but the results are much better than those of simple linear svm"
   ],
   "metadata": {
    "collapsed": false
   },
   "id": "18b128e6a070145b"
  },
  {
   "cell_type": "code",
   "execution_count": null,
   "outputs": [],
   "source": [],
   "metadata": {
    "collapsed": false
   },
   "id": "63d43f486ab58d96"
  }
 ],
 "metadata": {
  "kernelspec": {
   "display_name": "Python 3",
   "language": "python",
   "name": "python3"
  },
  "language_info": {
   "codemirror_mode": {
    "name": "ipython",
    "version": 2
   },
   "file_extension": ".py",
   "mimetype": "text/x-python",
   "name": "python",
   "nbconvert_exporter": "python",
   "pygments_lexer": "ipython2",
   "version": "2.7.6"
  }
 },
 "nbformat": 4,
 "nbformat_minor": 5
}
