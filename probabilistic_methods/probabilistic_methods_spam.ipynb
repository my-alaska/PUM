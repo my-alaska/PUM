{
 "cells": [
  {
   "cell_type": "markdown",
   "source": [
    "# Probabilistic methods"
   ],
   "metadata": {
    "collapsed": false
   },
   "id": "681c4ac7a8f5fdc8"
  },
  {
   "cell_type": "markdown",
   "source": [
    "First install and import needed packages and libraries"
   ],
   "metadata": {
    "collapsed": false
   },
   "id": "f57371ab8198cda7"
  },
  {
   "cell_type": "code",
   "execution_count": 1,
   "outputs": [],
   "source": [
    "# !pip install numpy scipy pandas matplotlib scikit-learn pyarrow"
   ],
   "metadata": {
    "collapsed": false,
    "ExecuteTime": {
     "end_time": "2024-01-25T19:58:58.591809900Z",
     "start_time": "2024-01-25T19:58:58.578808Z"
    }
   },
   "id": "d66ab04f918278e5"
  },
  {
   "cell_type": "code",
   "execution_count": 2,
   "outputs": [],
   "source": [
    "import matplotlib.pyplot as plt\n",
    "import numpy as np\n",
    "import pandas as pd"
   ],
   "metadata": {
    "collapsed": false,
    "ExecuteTime": {
     "end_time": "2024-01-25T19:58:59.049808900Z",
     "start_time": "2024-01-25T19:58:58.591809900Z"
    }
   },
   "id": "9faef2e87ff63f6b"
  },
  {
   "cell_type": "markdown",
   "source": [
    "### Spam Detection"
   ],
   "metadata": {
    "collapsed": false
   },
   "id": "fdecfac5cd0dcbd2"
  },
  {
   "cell_type": "markdown",
   "source": [
    "We're going to use a Naive Bayes classifier for binary classification of emails. We'll perform a \"spam/ham classification\"\n",
    "\n",
    "The data we're going to use was described in an article : \n",
    "> Metsis, Vangelis, Ion Androutsopoulos, and Georgios Paliouras. *\"Spam filtering with Naive Bayes - which Naive Bayes?.\"* CEAS. Vol. 17. 2006. [link](https://userweb.cs.txstate.edu/~v_m137/docs/papers/ceas2006_paper_corrected.pdf)\n",
    "\n",
    "It uses the [Enron Spam dataset](http://nlp.cs.aueb.gr/software_and_datasets/Enron-Spam/index.html) as a source of emails that are not considered as spam.\n",
    "\n",
    "Spam emails were obtained from 4 different sources:\n",
    "1. [SpamAssassin dataset](https://spamassassin.apache.org/old/publiccorpus/)\n",
    "2. [Project Honeypot](https://www.projecthoneypot.org/)\n",
    "3. [Bruce Guenter's spam database](http://untroubled.org/spam/)\n",
    "4. Emails collected by one of the authors of the article - Georgiosa Paliourasa.\n",
    "\n",
    "We're going to use a processed version of this dataset that can be obtained using script in this [repository](https://github.com/MWiechmann/enron_spam_data?fbclid=IwAR1icPxic8TDD6HGk6empohwcZ76uig0NxwxK7sWbczinBNfxEEt-ETparA)."
   ],
   "metadata": {
    "collapsed": false
   },
   "id": "4aedd367af1c2c78"
  },
  {
   "cell_type": "code",
   "execution_count": 3,
   "outputs": [
    {
     "data": {
      "text/plain": "   Message ID                       Subject  \\\n0           0  christmas tree farm pictures   \n1           1      vastar resources , inc .   \n2           2  calpine daily gas nomination   \n3           3                    re : issue   \n4           4     meter 7268 nov allocation   \n\n                                             Message Spam/Ham        Date  \n0                                                NaN      ham  1999-12-10  \n1  gary , production from the high island larger ...      ham  1999-12-13  \n2             - calpine daily gas nomination 1 . doc      ham  1999-12-14  \n3  fyi - see note below - already done .\\nstella\\...      ham  1999-12-14  \n4  fyi .\\n- - - - - - - - - - - - - - - - - - - -...      ham  1999-12-14  ",
      "text/html": "<div>\n<style scoped>\n    .dataframe tbody tr th:only-of-type {\n        vertical-align: middle;\n    }\n\n    .dataframe tbody tr th {\n        vertical-align: top;\n    }\n\n    .dataframe thead th {\n        text-align: right;\n    }\n</style>\n<table border=\"1\" class=\"dataframe\">\n  <thead>\n    <tr style=\"text-align: right;\">\n      <th></th>\n      <th>Message ID</th>\n      <th>Subject</th>\n      <th>Message</th>\n      <th>Spam/Ham</th>\n      <th>Date</th>\n    </tr>\n  </thead>\n  <tbody>\n    <tr>\n      <th>0</th>\n      <td>0</td>\n      <td>christmas tree farm pictures</td>\n      <td>NaN</td>\n      <td>ham</td>\n      <td>1999-12-10</td>\n    </tr>\n    <tr>\n      <th>1</th>\n      <td>1</td>\n      <td>vastar resources , inc .</td>\n      <td>gary , production from the high island larger ...</td>\n      <td>ham</td>\n      <td>1999-12-13</td>\n    </tr>\n    <tr>\n      <th>2</th>\n      <td>2</td>\n      <td>calpine daily gas nomination</td>\n      <td>- calpine daily gas nomination 1 . doc</td>\n      <td>ham</td>\n      <td>1999-12-14</td>\n    </tr>\n    <tr>\n      <th>3</th>\n      <td>3</td>\n      <td>re : issue</td>\n      <td>fyi - see note below - already done .\\nstella\\...</td>\n      <td>ham</td>\n      <td>1999-12-14</td>\n    </tr>\n    <tr>\n      <th>4</th>\n      <td>4</td>\n      <td>meter 7268 nov allocation</td>\n      <td>fyi .\\n- - - - - - - - - - - - - - - - - - - -...</td>\n      <td>ham</td>\n      <td>1999-12-14</td>\n    </tr>\n  </tbody>\n</table>\n</div>"
     },
     "execution_count": 3,
     "metadata": {},
     "output_type": "execute_result"
    }
   ],
   "source": [
    "df = pd.read_csv(\"enron_spam_data.csv\")\n",
    "df.head()"
   ],
   "metadata": {
    "collapsed": false,
    "ExecuteTime": {
     "end_time": "2024-01-25T19:58:59.336414800Z",
     "start_time": "2024-01-25T19:58:59.049808900Z"
    }
   },
   "id": "6e9484417e5fe1e7"
  },
  {
   "cell_type": "markdown",
   "source": [
    "We don't need the `Message ID` and `Date` columns"
   ],
   "metadata": {
    "collapsed": false
   },
   "id": "22b0cbdd5032e341"
  },
  {
   "cell_type": "code",
   "execution_count": 4,
   "outputs": [],
   "source": [
    "df[[\"Subject\", \"Message\"]] = df[[\"Subject\", \"Message\"]].fillna(\"\")\n",
    "df[\"text\"] = df[\"Subject\"].str.cat(df[\"Message\"])\n",
    "df = df[\n",
    "    [\n",
    "        \"text\",\n",
    "        \"Spam/Ham\",\n",
    "    ]\n",
    "]\n",
    "\n",
    "df[\"Spam/Ham\"] = (df[\"Spam/Ham\"] == \"spam\").astype(int)\n",
    "\n",
    "y = df.pop(\"Spam/Ham\")\n",
    "texts = df[\"text\"]"
   ],
   "metadata": {
    "collapsed": false,
    "ExecuteTime": {
     "end_time": "2024-01-25T19:58:59.415415700Z",
     "start_time": "2024-01-25T19:58:59.338414Z"
    }
   },
   "id": "ddcbd420286416b0"
  },
  {
   "cell_type": "code",
   "execution_count": 5,
   "outputs": [
    {
     "data": {
      "text/plain": "[Text(0, 0, '50.93'), Text(0, 0, '49.07')]"
     },
     "execution_count": 5,
     "metadata": {},
     "output_type": "execute_result"
    },
    {
     "data": {
      "text/plain": "<Figure size 640x480 with 1 Axes>",
      "image/png": "[encoded data removed]"
     },
     "metadata": {},
     "output_type": "display_data"
    }
   ],
   "source": [
    "class_percentages = y.value_counts(normalize=True)\n",
    "class_percentages = round(class_percentages * 100, 2)\n",
    "\n",
    "ax = class_percentages.plot.bar(title=\"Class distribution\", rot=0)\n",
    "\n",
    "ax.bar_label(ax.containers[0])"
   ],
   "metadata": {
    "collapsed": false,
    "ExecuteTime": {
     "end_time": "2024-01-25T19:58:59.488416700Z",
     "start_time": "2024-01-25T19:58:59.386414300Z"
    }
   },
   "id": "2ab7fa9b0f59cc1b"
  },
  {
   "cell_type": "markdown",
   "source": [
    "\n",
    "This scenario is not really realistic as there's more spam than ham. In reality spam contributes to about 1/3 of emails.\n",
    "\n",
    "We want to focus on minimizing false positives as we don't want to label important emails as spam. However, we can't just use precision for scoring as we could get the best score using a classifier that always returns negative label. We also have to consider the F1 score\n",
    "\n",
    "We'll use a `CountVectorizer` to create a binary bag of words vectors to preprocess the text. We'll remove the stopwords\n",
    "\n",
    "We'll use the `BernoulliNB` binomial Naive Bayes classifier."
   ],
   "metadata": {
    "collapsed": false
   },
   "id": "8d931d22b06be8e4"
  },
  {
   "cell_type": "code",
   "execution_count": 10,
   "outputs": [],
   "source": [
    "from sklearn.feature_extraction.text import CountVectorizer\n",
    "from sklearn.metrics import f1_score, precision_score\n",
    "from sklearn.model_selection import train_test_split\n",
    "from sklearn.naive_bayes import BernoulliNB\n",
    "\n",
    "\n",
    "texts_train, texts_test, y_train, y_test = train_test_split(\n",
    "    texts,\n",
    "    y,\n",
    "    test_size=0.25,\n",
    "    random_state=0,\n",
    "    stratify=y,\n",
    ")\n",
    "\n",
    "count_vectorizer = CountVectorizer(\n",
    "    stop_words=\"english\",\n",
    "    binary=True,\n",
    ")\n",
    "\n",
    "X_train = count_vectorizer.fit_transform(texts_train)\n",
    "X_test = count_vectorizer.transform(texts_test)"
   ],
   "metadata": {
    "collapsed": false,
    "ExecuteTime": {
     "end_time": "2024-01-25T20:04:02.543304800Z",
     "start_time": "2024-01-25T20:04:00.076406100Z"
    }
   },
   "id": "afd7bdebc38b3ddf"
  },
  {
   "cell_type": "code",
   "execution_count": 11,
   "outputs": [
    {
     "name": "stdout",
     "output_type": "stream",
     "text": [
      "Dictionary size: 151717\n",
      "Precision: 98.97%\n",
      "F1-score: 98.81%\n"
     ]
    }
   ],
   "source": [
    "print(f\"Dictionary size: {X_train.shape[1]}\")\n",
    "\n",
    "clf_nb_bernoulli = BernoulliNB(binarize=None)\n",
    "clf_nb_bernoulli.fit(X_train, y_train)\n",
    "\n",
    "y_pred = clf_nb_bernoulli.predict(X_test)\n",
    "precision = precision_score(y_test, y_pred)\n",
    "f1 = f1_score(y_test, y_pred)\n",
    "\n",
    "print(f\"Precision: {100 * precision:.2f}%\")\n",
    "print(f\"F1-score: {100 * f1:.2f}%\")"
   ],
   "metadata": {
    "collapsed": false,
    "ExecuteTime": {
     "end_time": "2024-01-25T20:04:02.590305700Z",
     "start_time": "2024-01-25T20:04:02.547305100Z"
    }
   },
   "id": "f57eb2e3c6898b6c"
  },
  {
   "cell_type": "markdown",
   "source": [
    "Let us perform a hyperparameter tuning to see if we can improve this score. It's already really good"
   ],
   "metadata": {
    "collapsed": false
   },
   "id": "60e4c97658b5b77f"
  },
  {
   "cell_type": "code",
   "execution_count": 13,
   "outputs": [
    {
     "data": {
      "text/plain": "GridSearchCV(cv=5,\n             estimator=Pipeline(steps=[('cvect',\n                                        CountVectorizer(stop_words='english')),\n                                       ('mnb', MultinomialNB())]),\n             n_jobs=-1,\n             param_grid={'cvect__max_df': [0.5, 0.6, 0.7, 0.8, 0.9, 1.0],\n                         'cvect__ngram_range': [(1, 1), (1, 2), (1, 3)]},\n             scoring='precision')",
      "text/html": "<style>#sk-container-id-1 {color: black;}#sk-container-id-1 pre{padding: 0;}#sk-container-id-1 div.sk-toggleable {background-color: white;}#sk-container-id-1 label.sk-toggleable__label {cursor: pointer;display: block;width: 100%;margin-bottom: 0;padding: 0.3em;box-sizing: border-box;text-align: center;}#sk-container-id-1 label.sk-toggleable__label-arrow:before {content: \"▸\";float: left;margin-right: 0.25em;color: #696969;}#sk-container-id-1 label.sk-toggleable__label-arrow:hover:before {color: black;}#sk-container-id-1 div.sk-estimator:hover label.sk-toggleable__label-arrow:before {color: black;}#sk-container-id-1 div.sk-toggleable__content {max-height: 0;max-width: 0;overflow: hidden;text-align: left;background-color: #f0f8ff;}#sk-container-id-1 div.sk-toggleable__content pre {margin: 0.2em;color: black;border-radius: 0.25em;background-color: #f0f8ff;}#sk-container-id-1 input.sk-toggleable__control:checked~div.sk-toggleable__content {max-height: 200px;max-width: 100%;overflow: auto;}#sk-container-id-1 input.sk-toggleable__control:checked~label.sk-toggleable__label-arrow:before {content: \"▾\";}#sk-container-id-1 div.sk-estimator input.sk-toggleable__control:checked~label.sk-toggleable__label {background-color: #d4ebff;}#sk-container-id-1 div.sk-label input.sk-toggleable__control:checked~label.sk-toggleable__label {background-color: #d4ebff;}#sk-container-id-1 input.sk-hidden--visually {border: 0;clip: rect(1px 1px 1px 1px);clip: rect(1px, 1px, 1px, 1px);height: 1px;margin: -1px;overflow: hidden;padding: 0;position: absolute;width: 1px;}#sk-container-id-1 div.sk-estimator {font-family: monospace;background-color: #f0f8ff;border: 1px dotted black;border-radius: 0.25em;box-sizing: border-box;margin-bottom: 0.5em;}#sk-container-id-1 div.sk-estimator:hover {background-color: #d4ebff;}#sk-container-id-1 div.sk-parallel-item::after {content: \"\";width: 100%;border-bottom: 1px solid gray;flex-grow: 1;}#sk-container-id-1 div.sk-label:hover label.sk-toggleable__label {background-color: #d4ebff;}#sk-container-id-1 div.sk-serial::before {content: \"\";position: absolute;border-left: 1px solid gray;box-sizing: border-box;top: 0;bottom: 0;left: 50%;z-index: 0;}#sk-container-id-1 div.sk-serial {display: flex;flex-direction: column;align-items: center;background-color: white;padding-right: 0.2em;padding-left: 0.2em;position: relative;}#sk-container-id-1 div.sk-item {position: relative;z-index: 1;}#sk-container-id-1 div.sk-parallel {display: flex;align-items: stretch;justify-content: center;background-color: white;position: relative;}#sk-container-id-1 div.sk-item::before, #sk-container-id-1 div.sk-parallel-item::before {content: \"\";position: absolute;border-left: 1px solid gray;box-sizing: border-box;top: 0;bottom: 0;left: 50%;z-index: -1;}#sk-container-id-1 div.sk-parallel-item {display: flex;flex-direction: column;z-index: 1;position: relative;background-color: white;}#sk-container-id-1 div.sk-parallel-item:first-child::after {align-self: flex-end;width: 50%;}#sk-container-id-1 div.sk-parallel-item:last-child::after {align-self: flex-start;width: 50%;}#sk-container-id-1 div.sk-parallel-item:only-child::after {width: 0;}#sk-container-id-1 div.sk-dashed-wrapped {border: 1px dashed gray;margin: 0 0.4em 0.5em 0.4em;box-sizing: border-box;padding-bottom: 0.4em;background-color: white;}#sk-container-id-1 div.sk-label label {font-family: monospace;font-weight: bold;display: inline-block;line-height: 1.2em;}#sk-container-id-1 div.sk-label-container {text-align: center;}#sk-container-id-1 div.sk-container {/* jupyter's `normalize.less` sets `[hidden] { display: none; }` but bootstrap.min.css set `[hidden] { display: none !important; }` so we also need the `!important` here to be able to override the default hidden behavior on the sphinx rendered scikit-learn.org. See: https://github.com/scikit-learn/scikit-learn/issues/21755 */display: inline-block !important;position: relative;}#sk-container-id-1 div.sk-text-repr-fallback {display: none;}</style><div id=\"sk-container-id-1\" class=\"sk-top-container\"><div class=\"sk-text-repr-fallback\"><pre>GridSearchCV(cv=5,\n             estimator=Pipeline(steps=[(&#x27;cvect&#x27;,\n                                        CountVectorizer(stop_words=&#x27;english&#x27;)),\n                                       (&#x27;mnb&#x27;, MultinomialNB())]),\n             n_jobs=-1,\n             param_grid={&#x27;cvect__max_df&#x27;: [0.5, 0.6, 0.7, 0.8, 0.9, 1.0],\n                         &#x27;cvect__ngram_range&#x27;: [(1, 1), (1, 2), (1, 3)]},\n             scoring=&#x27;precision&#x27;)</pre><b>In a Jupyter environment, please rerun this cell to show the HTML representation or trust the notebook. <br />On GitHub, the HTML representation is unable to render, please try loading this page with nbviewer.org.</b></div><div class=\"sk-container\" hidden><div class=\"sk-item sk-dashed-wrapped\"><div class=\"sk-label-container\"><div class=\"sk-label sk-toggleable\"><input class=\"sk-toggleable__control sk-hidden--visually\" id=\"sk-estimator-id-1\" type=\"checkbox\" ><label for=\"sk-estimator-id-1\" class=\"sk-toggleable__label sk-toggleable__label-arrow\">GridSearchCV</label><div class=\"sk-toggleable__content\"><pre>GridSearchCV(cv=5,\n             estimator=Pipeline(steps=[(&#x27;cvect&#x27;,\n                                        CountVectorizer(stop_words=&#x27;english&#x27;)),\n                                       (&#x27;mnb&#x27;, MultinomialNB())]),\n             n_jobs=-1,\n             param_grid={&#x27;cvect__max_df&#x27;: [0.5, 0.6, 0.7, 0.8, 0.9, 1.0],\n                         &#x27;cvect__ngram_range&#x27;: [(1, 1), (1, 2), (1, 3)]},\n             scoring=&#x27;precision&#x27;)</pre></div></div></div><div class=\"sk-parallel\"><div class=\"sk-parallel-item\"><div class=\"sk-item\"><div class=\"sk-label-container\"><div class=\"sk-label sk-toggleable\"><input class=\"sk-toggleable__control sk-hidden--visually\" id=\"sk-estimator-id-2\" type=\"checkbox\" ><label for=\"sk-estimator-id-2\" class=\"sk-toggleable__label sk-toggleable__label-arrow\">estimator: Pipeline</label><div class=\"sk-toggleable__content\"><pre>Pipeline(steps=[(&#x27;cvect&#x27;, CountVectorizer(stop_words=&#x27;english&#x27;)),\n                (&#x27;mnb&#x27;, MultinomialNB())])</pre></div></div></div><div class=\"sk-serial\"><div class=\"sk-item\"><div class=\"sk-serial\"><div class=\"sk-item\"><div class=\"sk-estimator sk-toggleable\"><input class=\"sk-toggleable__control sk-hidden--visually\" id=\"sk-estimator-id-3\" type=\"checkbox\" ><label for=\"sk-estimator-id-3\" class=\"sk-toggleable__label sk-toggleable__label-arrow\">CountVectorizer</label><div class=\"sk-toggleable__content\"><pre>CountVectorizer(stop_words=&#x27;english&#x27;)</pre></div></div></div><div class=\"sk-item\"><div class=\"sk-estimator sk-toggleable\"><input class=\"sk-toggleable__control sk-hidden--visually\" id=\"sk-estimator-id-4\" type=\"checkbox\" ><label for=\"sk-estimator-id-4\" class=\"sk-toggleable__label sk-toggleable__label-arrow\">MultinomialNB</label><div class=\"sk-toggleable__content\"><pre>MultinomialNB()</pre></div></div></div></div></div></div></div></div></div></div></div></div>"
     },
     "execution_count": 13,
     "metadata": {},
     "output_type": "execute_result"
    }
   ],
   "source": [
    "from sklearn.naive_bayes import MultinomialNB\n",
    "from sklearn.pipeline import Pipeline\n",
    "from sklearn.model_selection import GridSearchCV\n",
    "\n",
    "multinomialPipe = Pipeline(\n",
    "    [\n",
    "        (\"cvect\", CountVectorizer(stop_words=\"english\", binary=False)),\n",
    "        (\"mnb\", MultinomialNB()),\n",
    "    ]\n",
    ")\n",
    "\n",
    "param_grid = {\n",
    "    \"cvect__ngram_range\": [(1, 1), (1, 2), (1, 3)],\n",
    "    \"cvect__max_df\": [0.5, 0.6, 0.7, 0.8, 0.9, 1.0],\n",
    "}\n",
    "\n",
    "cv = GridSearchCV(\n",
    "    estimator=multinomialPipe,\n",
    "    param_grid=param_grid,\n",
    "    scoring=\"precision\",\n",
    "    cv=5,\n",
    "    n_jobs=-1,\n",
    ")\n",
    "\n",
    "cv.fit(texts_train, y_train)"
   ],
   "metadata": {
    "collapsed": false,
    "ExecuteTime": {
     "end_time": "2024-01-25T20:13:48.053971100Z",
     "start_time": "2024-01-25T20:12:13.795051200Z"
    }
   },
   "id": "321a9e424b78e33"
  },
  {
   "cell_type": "code",
   "execution_count": 14,
   "outputs": [
    {
     "name": "stdout",
     "output_type": "stream",
     "text": [
      "{'cvect__max_df': 0.5, 'cvect__ngram_range': (1, 3)}\n",
      "Precision: 99.35%\n",
      "F1-score: 99.18%\n"
     ]
    }
   ],
   "source": [
    "print(cv.best_params_)\n",
    "\n",
    "y_pred = cv.predict(texts_test)\n",
    "precision = precision_score(y_test, y_pred)\n",
    "f1 = f1_score(y_test, y_pred)\n",
    "\n",
    "print(f\"Precision: {100 * precision:.2f}%\")\n",
    "print(f\"F1-score: {100 * f1:.2f}%\")"
   ],
   "metadata": {
    "collapsed": false,
    "ExecuteTime": {
     "end_time": "2024-01-25T20:13:49.951232500Z",
     "start_time": "2024-01-25T20:13:48.055378Z"
    }
   },
   "id": "eb616aed3f3badcd"
  },
  {
   "cell_type": "markdown",
   "source": [
    "This score is really good even though we used only a simple text preprocessing"
   ],
   "metadata": {
    "collapsed": false
   },
   "id": "573e78728ffa9c17"
  },
  {
   "cell_type": "code",
   "execution_count": null,
   "outputs": [],
   "source": [],
   "metadata": {
    "collapsed": false
   },
   "id": "44ef222124768c75"
  }
 ],
 "metadata": {
  "kernelspec": {
   "display_name": "Python 3",
   "language": "python",
   "name": "python3"
  },
  "language_info": {
   "codemirror_mode": {
    "name": "ipython",
    "version": 2
   },
   "file_extension": ".py",
   "mimetype": "text/x-python",
   "name": "python",
   "nbconvert_exporter": "python",
   "pygments_lexer": "ipython2",
   "version": "2.7.6"
  }
 },
 "nbformat": 4,
 "nbformat_minor": 5
}
