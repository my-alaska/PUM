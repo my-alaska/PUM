{
 "cells": [
  {
   "cell_type": "code",
   "execution_count": 1,
   "id": "initial_id",
   "metadata": {
    "collapsed": true,
    "ExecuteTime": {
     "end_time": "2023-11-06T21:47:48.640510400Z",
     "start_time": "2023-11-06T21:47:48.445959500Z"
    }
   },
   "outputs": [],
   "source": [
    "import pandas as pd\n",
    "import numpy as np"
   ]
  },
  {
   "cell_type": "markdown",
   "source": [
    "Read the dataframe"
   ],
   "metadata": {
    "collapsed": false
   },
   "id": "70247cfeea8d22ed"
  },
  {
   "cell_type": "code",
   "execution_count": 2,
   "outputs": [
    {
     "data": {
      "text/plain": "   age        job  marital    education  default housing loan    contact  \\\n0   56  housemaid  married     basic.4y       no      no   no  telephone   \n1   57   services  married  high.school  unknown      no   no  telephone   \n2   37   services  married  high.school       no     yes   no  telephone   \n3   40     admin.  married     basic.6y       no      no   no  telephone   \n4   56   services  married  high.school       no      no  yes  telephone   \n\n  month day_of_week  ...  campaign  pdays  previous     poutcome emp.var.rate  \\\n0   may         mon  ...         1    999         0  nonexistent          1.1   \n1   may         mon  ...         1    999         0  nonexistent          1.1   \n2   may         mon  ...         1    999         0  nonexistent          1.1   \n3   may         mon  ...         1    999         0  nonexistent          1.1   \n4   may         mon  ...         1    999         0  nonexistent          1.1   \n\n   cons.price.idx  cons.conf.idx  euribor3m  nr.employed   y  \n0          93.994          -36.4      4.857       5191.0  no  \n1          93.994          -36.4      4.857       5191.0  no  \n2          93.994          -36.4      4.857       5191.0  no  \n3          93.994          -36.4      4.857       5191.0  no  \n4          93.994          -36.4      4.857       5191.0  no  \n\n[5 rows x 21 columns]",
      "text/html": "<div>\n<style scoped>\n    .dataframe tbody tr th:only-of-type {\n        vertical-align: middle;\n    }\n\n    .dataframe tbody tr th {\n        vertical-align: top;\n    }\n\n    .dataframe thead th {\n        text-align: right;\n    }\n</style>\n<table border=\"1\" class=\"dataframe\">\n  <thead>\n    <tr style=\"text-align: right;\">\n      <th></th>\n      <th>age</th>\n      <th>job</th>\n      <th>marital</th>\n      <th>education</th>\n      <th>default</th>\n      <th>housing</th>\n      <th>loan</th>\n      <th>contact</th>\n      <th>month</th>\n      <th>day_of_week</th>\n      <th>...</th>\n      <th>campaign</th>\n      <th>pdays</th>\n      <th>previous</th>\n      <th>poutcome</th>\n      <th>emp.var.rate</th>\n      <th>cons.price.idx</th>\n      <th>cons.conf.idx</th>\n      <th>euribor3m</th>\n      <th>nr.employed</th>\n      <th>y</th>\n    </tr>\n  </thead>\n  <tbody>\n    <tr>\n      <th>0</th>\n      <td>56</td>\n      <td>housemaid</td>\n      <td>married</td>\n      <td>basic.4y</td>\n      <td>no</td>\n      <td>no</td>\n      <td>no</td>\n      <td>telephone</td>\n      <td>may</td>\n      <td>mon</td>\n      <td>...</td>\n      <td>1</td>\n      <td>999</td>\n      <td>0</td>\n      <td>nonexistent</td>\n      <td>1.1</td>\n      <td>93.994</td>\n      <td>-36.4</td>\n      <td>4.857</td>\n      <td>5191.0</td>\n      <td>no</td>\n    </tr>\n    <tr>\n      <th>1</th>\n      <td>57</td>\n      <td>services</td>\n      <td>married</td>\n      <td>high.school</td>\n      <td>unknown</td>\n      <td>no</td>\n      <td>no</td>\n      <td>telephone</td>\n      <td>may</td>\n      <td>mon</td>\n      <td>...</td>\n      <td>1</td>\n      <td>999</td>\n      <td>0</td>\n      <td>nonexistent</td>\n      <td>1.1</td>\n      <td>93.994</td>\n      <td>-36.4</td>\n      <td>4.857</td>\n      <td>5191.0</td>\n      <td>no</td>\n    </tr>\n    <tr>\n      <th>2</th>\n      <td>37</td>\n      <td>services</td>\n      <td>married</td>\n      <td>high.school</td>\n      <td>no</td>\n      <td>yes</td>\n      <td>no</td>\n      <td>telephone</td>\n      <td>may</td>\n      <td>mon</td>\n      <td>...</td>\n      <td>1</td>\n      <td>999</td>\n      <td>0</td>\n      <td>nonexistent</td>\n      <td>1.1</td>\n      <td>93.994</td>\n      <td>-36.4</td>\n      <td>4.857</td>\n      <td>5191.0</td>\n      <td>no</td>\n    </tr>\n    <tr>\n      <th>3</th>\n      <td>40</td>\n      <td>admin.</td>\n      <td>married</td>\n      <td>basic.6y</td>\n      <td>no</td>\n      <td>no</td>\n      <td>no</td>\n      <td>telephone</td>\n      <td>may</td>\n      <td>mon</td>\n      <td>...</td>\n      <td>1</td>\n      <td>999</td>\n      <td>0</td>\n      <td>nonexistent</td>\n      <td>1.1</td>\n      <td>93.994</td>\n      <td>-36.4</td>\n      <td>4.857</td>\n      <td>5191.0</td>\n      <td>no</td>\n    </tr>\n    <tr>\n      <th>4</th>\n      <td>56</td>\n      <td>services</td>\n      <td>married</td>\n      <td>high.school</td>\n      <td>no</td>\n      <td>no</td>\n      <td>yes</td>\n      <td>telephone</td>\n      <td>may</td>\n      <td>mon</td>\n      <td>...</td>\n      <td>1</td>\n      <td>999</td>\n      <td>0</td>\n      <td>nonexistent</td>\n      <td>1.1</td>\n      <td>93.994</td>\n      <td>-36.4</td>\n      <td>4.857</td>\n      <td>5191.0</td>\n      <td>no</td>\n    </tr>\n  </tbody>\n</table>\n<p>5 rows × 21 columns</p>\n</div>"
     },
     "execution_count": 2,
     "metadata": {},
     "output_type": "execute_result"
    }
   ],
   "source": [
    "df = pd.read_csv(\"bank_marketing_data.csv\", sep=\";\")\n",
    "df.head()"
   ],
   "metadata": {
    "collapsed": false,
    "ExecuteTime": {
     "end_time": "2023-11-06T21:47:48.703300600Z",
     "start_time": "2023-11-06T21:47:48.641507300Z"
    }
   },
   "id": "859114f1f545c84a"
  },
  {
   "cell_type": "markdown",
   "source": [
    "Remove rows:\n",
    "- `default` - almost all values are negative\n",
    "- `duration` - value unknown before call. Can't be used for prediction\n",
    "- `pdays` - value equal to 999 if the call has never been made before\n",
    "- `poutcome` - almost all values are nonexistent"
   ],
   "metadata": {
    "collapsed": false
   },
   "id": "1ce9e44797a916bc"
  },
  {
   "cell_type": "code",
   "execution_count": 3,
   "outputs": [],
   "source": [
    "df = df.drop([\"default\", \"duration\", \"pdays\", \"poutcome\"], axis=1)"
   ],
   "metadata": {
    "collapsed": false,
    "ExecuteTime": {
     "end_time": "2023-11-06T21:47:48.719405800Z",
     "start_time": "2023-11-06T21:47:48.703300600Z"
    }
   },
   "id": "d946e1142d41e3d5"
  },
  {
   "cell_type": "markdown",
   "source": [
    "Remove illiterate examples as there's only a few of them"
   ],
   "metadata": {
    "collapsed": false
   },
   "id": "a46caf8963ca5406"
  },
  {
   "cell_type": "code",
   "execution_count": 4,
   "outputs": [],
   "source": [
    "df = df.drop(df.loc[df[\"education\"] == \"illiterate\"].index)"
   ],
   "metadata": {
    "collapsed": false,
    "ExecuteTime": {
     "end_time": "2023-11-06T21:47:48.740051600Z",
     "start_time": "2023-11-06T21:47:48.722404400Z"
    }
   },
   "id": "6b2c26feb4ffda75"
  },
  {
   "cell_type": "markdown",
   "source": [
    "Encode numerical values"
   ],
   "metadata": {
    "collapsed": false
   },
   "id": "27c1c7cc1111d0e5"
  },
  {
   "cell_type": "code",
   "execution_count": 5,
   "outputs": [],
   "source": [
    "education_mapping = {\n",
    "    \"basic.4y\": \"primary\",\n",
    "    \"basic.6y\": \"primary\",\n",
    "    \"basic.9y\": \"primary\",\n",
    "    \"high.school\": \"secondary\",\n",
    "    \"professional.course\": \"secondary\",\n",
    "    \"university.degree\": \"tertiary\",\n",
    "}\n",
    "\n",
    "contact_mapping = {\n",
    "    \"telephone\": 0,\n",
    "    \"cellular\": 1,\n",
    "}\n",
    "\n",
    "month_mapping = {\n",
    "    \"jan\": 1,\n",
    "    \"feb\": 2,\n",
    "    \"mar\": 3,\n",
    "    \"apr\": 4,\n",
    "    \"may\": 5,\n",
    "    \"jun\": 6,\n",
    "    \"jul\": 7,\n",
    "    \"aug\": 8,\n",
    "    \"sep\": 9,\n",
    "    \"oct\": 10,\n",
    "    \"nov\": 11,\n",
    "    \"dec\": 12,\n",
    "}\n",
    "\n",
    "day_of_week_mapping = {\n",
    "    \"mon\": 1,\n",
    "    \"tue\": 2,\n",
    "    \"wed\": 3,\n",
    "    \"thu\": 4,\n",
    "    \"fri\": 5,\n",
    "}\n",
    "\n",
    "y_mapping = {\n",
    "    \"no\": 0,\n",
    "    \"yes\": 1,\n",
    "}"
   ],
   "metadata": {
    "collapsed": false,
    "ExecuteTime": {
     "end_time": "2023-11-06T21:47:48.795864400Z",
     "start_time": "2023-11-06T21:47:48.737061200Z"
    }
   },
   "id": "301f811028f773f4"
  },
  {
   "cell_type": "code",
   "execution_count": 6,
   "outputs": [],
   "source": [
    "df = df.replace({\"education\":education_mapping,\"contact\":contact_mapping,\"month\":month_mapping,\"day_of_week\":day_of_week_mapping,\"y\":y_mapping})"
   ],
   "metadata": {
    "collapsed": false,
    "ExecuteTime": {
     "end_time": "2023-11-06T21:47:48.823277100Z",
     "start_time": "2023-11-06T21:47:48.752011300Z"
    }
   },
   "id": "f1be2dc533e6b668"
  },
  {
   "cell_type": "markdown",
   "source": [
    "Extract the target variable and check for missing values"
   ],
   "metadata": {
    "collapsed": false
   },
   "id": "1173ca7dfd362130"
  },
  {
   "cell_type": "code",
   "execution_count": 7,
   "outputs": [],
   "source": [
    "y = df[\"y\"]\n",
    "df = df.drop(\"y\", axis=1)"
   ],
   "metadata": {
    "collapsed": false,
    "ExecuteTime": {
     "end_time": "2023-11-06T21:47:48.838227300Z",
     "start_time": "2023-11-06T21:47:48.813805600Z"
    }
   },
   "id": "32d93e89f40c57af"
  },
  {
   "cell_type": "code",
   "execution_count": 8,
   "outputs": [
    {
     "data": {
      "text/plain": "<Axes: >"
     },
     "execution_count": 8,
     "metadata": {},
     "output_type": "execute_result"
    },
    {
     "data": {
      "text/plain": "<Figure size 2500x1000 with 3 Axes>",
      "image/png": "[encoded data removed]"
     },
     "metadata": {},
     "output_type": "display_data"
    }
   ],
   "source": [
    "import missingno as msno\n",
    "\n",
    "msno.bar(df)"
   ],
   "metadata": {
    "collapsed": false,
    "ExecuteTime": {
     "end_time": "2023-11-06T21:47:49.843507300Z",
     "start_time": "2023-11-06T21:47:48.828260500Z"
    }
   },
   "id": "4f87980cc1cf9443"
  },
  {
   "cell_type": "markdown",
   "source": [
    "Separate the data into training and testing set"
   ],
   "metadata": {
    "collapsed": false
   },
   "id": "26cd52d7f3c56068"
  },
  {
   "cell_type": "code",
   "execution_count": 9,
   "outputs": [],
   "source": [
    "from sklearn.model_selection import train_test_split\n",
    "\n",
    "X_train, X_test, y_train, y_test = train_test_split(\n",
    "    df, y, test_size=0.25, random_state=0, stratify=y\n",
    ")"
   ],
   "metadata": {
    "collapsed": false,
    "ExecuteTime": {
     "end_time": "2023-11-06T21:47:49.880383900Z",
     "start_time": "2023-11-06T21:47:49.763774400Z"
    }
   },
   "id": "a57529fea33579c8"
  },
  {
   "cell_type": "markdown",
   "source": [
    "Encoding and scaling data\n",
    "\n",
    "Extracting categorical and numerical features"
   ],
   "metadata": {
    "collapsed": false
   },
   "id": "1b3f042f8a1e86c2"
  },
  {
   "cell_type": "code",
   "execution_count": 10,
   "outputs": [],
   "source": [
    "\n",
    "\n",
    "categorical_features = df.select_dtypes(include=\"object\").columns\n",
    "numerical_features = df.select_dtypes(exclude=\"object\").columns"
   ],
   "metadata": {
    "collapsed": false,
    "ExecuteTime": {
     "end_time": "2023-11-06T21:47:49.881380600Z",
     "start_time": "2023-11-06T21:47:49.844504100Z"
    }
   },
   "id": "6db7120fc9baba0c"
  },
  {
   "cell_type": "markdown",
   "source": [
    "Encoder for categorical features"
   ],
   "metadata": {
    "collapsed": false
   },
   "id": "dbcfbe06736b0c48"
  },
  {
   "cell_type": "code",
   "execution_count": 11,
   "outputs": [],
   "source": [
    "from sklearn.preprocessing import OneHotEncoder\n",
    "\n",
    "one_hot_encoder = OneHotEncoder(sparse=False, handle_unknown=\"ignore\")"
   ],
   "metadata": {
    "collapsed": false,
    "ExecuteTime": {
     "end_time": "2023-11-06T21:47:49.928986200Z",
     "start_time": "2023-11-06T21:47:49.858457600Z"
    }
   },
   "id": "9a68c9339e578a48"
  },
  {
   "cell_type": "markdown",
   "source": [
    "Imputer and scaler for numerical features"
   ],
   "metadata": {
    "collapsed": false
   },
   "id": "f98205cc60047cbe"
  },
  {
   "cell_type": "code",
   "execution_count": 12,
   "outputs": [],
   "source": [
    "from sklearn.impute import SimpleImputer\n",
    "from sklearn.preprocessing import StandardScaler\n",
    "\n",
    "median_imputer = SimpleImputer(strategy=\"median\")\n",
    "std_scaler = StandardScaler()"
   ],
   "metadata": {
    "collapsed": false,
    "ExecuteTime": {
     "end_time": "2023-11-06T21:47:49.931978200Z",
     "start_time": "2023-11-06T21:47:49.874404400Z"
    }
   },
   "id": "608c47b26ea33d94"
  },
  {
   "cell_type": "markdown",
   "source": [
    "Creating a pipeline"
   ],
   "metadata": {
    "collapsed": false
   },
   "id": "28bc6ce2ffa0e4b9"
  },
  {
   "cell_type": "code",
   "execution_count": 13,
   "outputs": [],
   "source": [
    "\n",
    "from sklearn.pipeline import Pipeline\n",
    "\n",
    "\n",
    "categorical_pipeline = Pipeline(steps=[(\"onehot\", one_hot_encoder)])\n",
    "numerical_pipeline = Pipeline(\n",
    "    steps=[(\"imputer\", median_imputer), (\"scaler\", std_scaler)]\n",
    ")\n",
    "\n"
   ],
   "metadata": {
    "collapsed": false,
    "ExecuteTime": {
     "end_time": "2023-11-06T21:47:49.951911300Z",
     "start_time": "2023-11-06T21:47:49.922244200Z"
    }
   },
   "id": "5eafbde6c0bd7ce3"
  },
  {
   "cell_type": "markdown",
   "source": [
    "Creating and using a columne transformer"
   ],
   "metadata": {
    "collapsed": false
   },
   "id": "cec3e67e711893ad"
  },
  {
   "cell_type": "code",
   "execution_count": 14,
   "outputs": [
    {
     "name": "stderr",
     "output_type": "stream",
     "text": [
      "C:\\Users\\piotr\\AppData\\Local\\Programs\\Python\\Python310\\lib\\site-packages\\sklearn\\preprocessing\\_encoders.py:975: FutureWarning: `sparse` was renamed to `sparse_output` in version 1.2 and will be removed in 1.4. `sparse_output` is ignored unless you leave `sparse` to its default value.\n",
      "  warnings.warn(\n"
     ]
    }
   ],
   "source": [
    "from sklearn.compose import ColumnTransformer\n",
    "column_transformer = ColumnTransformer(\n",
    "    [\n",
    "        (\"categorical\", categorical_pipeline, categorical_features),\n",
    "        (\"numerical\", numerical_pipeline, numerical_features),\n",
    "    ]\n",
    ")\n",
    "\n",
    "X_train = column_transformer.fit_transform(X_train)\n",
    "X_test = column_transformer.transform(X_test)"
   ],
   "metadata": {
    "collapsed": false,
    "ExecuteTime": {
     "end_time": "2023-11-06T21:47:50.009718Z",
     "start_time": "2023-11-06T21:47:49.939989700Z"
    }
   },
   "id": "42c8a6f0372ece8f"
  },
  {
   "cell_type": "markdown",
   "source": [
    "Training 3 different logistic regression models to compare"
   ],
   "metadata": {
    "collapsed": false
   },
   "id": "edc991c82b541441"
  },
  {
   "cell_type": "code",
   "execution_count": 15,
   "outputs": [
    {
     "name": "stderr",
     "output_type": "stream",
     "text": [
      "C:\\Users\\piotr\\AppData\\Local\\Programs\\Python\\Python310\\lib\\site-packages\\sklearn\\linear_model\\_logistic.py:1183: FutureWarning: `penalty='none'`has been deprecated in 1.2 and will be removed in 1.4. To keep the past behaviour, set `penalty=None`.\n",
      "  warnings.warn(\n"
     ]
    },
    {
     "data": {
      "text/plain": "77.15578030712507"
     },
     "execution_count": 15,
     "metadata": {},
     "output_type": "execute_result"
    }
   ],
   "source": [
    "from sklearn.linear_model import LogisticRegression, LogisticRegressionCV\n",
    "from sklearn.metrics import roc_auc_score\n",
    "\n",
    "logreg = LogisticRegression(class_weight=\"balanced\", penalty=\"none\")\n",
    "logreg.fit(X_train, y_train)\n",
    "\n",
    "y_pred = logreg.predict_proba(X_test)[:,1]\n",
    "roc_auc_score(y_test, y_pred) * 100"
   ],
   "metadata": {
    "collapsed": false,
    "ExecuteTime": {
     "end_time": "2023-11-06T21:47:50.092441700Z",
     "start_time": "2023-11-06T21:47:50.001745300Z"
    }
   },
   "id": "35a3afafdc47b06d"
  },
  {
   "cell_type": "code",
   "execution_count": 16,
   "outputs": [
    {
     "data": {
      "text/plain": "77.14199362837235"
     },
     "execution_count": 16,
     "metadata": {},
     "output_type": "execute_result"
    }
   ],
   "source": [
    "logreg_cv_l2 = LogisticRegressionCV(\n",
    "    Cs=100, cv=5, scoring=\"roc_auc\", class_weight=\"balanced\", random_state=0, n_jobs=-1\n",
    ")\n",
    "logreg_cv_l2.fit(X_train, y_train)\n",
    "\n",
    "y_pred = logreg_cv_l2.predict_proba(X_test)[:,1]\n",
    "roc_auc_score(y_test, y_pred) * 100"
   ],
   "metadata": {
    "collapsed": false,
    "ExecuteTime": {
     "end_time": "2023-11-06T21:47:53.811942200Z",
     "start_time": "2023-11-06T21:47:50.079485Z"
    }
   },
   "id": "b70a8071b5cc9c59"
  },
  {
   "cell_type": "code",
   "execution_count": 17,
   "outputs": [
    {
     "data": {
      "text/plain": "77.09214148920313"
     },
     "execution_count": 17,
     "metadata": {},
     "output_type": "execute_result"
    }
   ],
   "source": [
    "logreg_cv_l1 = LogisticRegressionCV(\n",
    "    penalty=\"l1\",\n",
    "    solver=\"saga\",\n",
    "    Cs=100,\n",
    "    cv=5,\n",
    "    scoring=\"roc_auc\",\n",
    "    class_weight=\"balanced\",\n",
    "    random_state=0,\n",
    "    n_jobs=-1,\n",
    ")\n",
    "logreg_cv_l1.fit(X_train, y_train)\n",
    "\n",
    "y_pred = logreg_cv_l1.predict_proba(X_test)[:,1]\n",
    "roc_auc_score(y_test, y_pred) * 100"
   ],
   "metadata": {
    "collapsed": false,
    "ExecuteTime": {
     "end_time": "2023-11-06T21:48:10.424662Z",
     "start_time": "2023-11-06T21:47:53.804965100Z"
    }
   },
   "id": "54d28f3d93640cbb"
  },
  {
   "cell_type": "markdown",
   "source": [
    "The results are more or less similar. Let's try to visualize the feature importance"
   ],
   "metadata": {
    "collapsed": false
   },
   "id": "c2fe75d5506f3ea8"
  },
  {
   "cell_type": "code",
   "execution_count": 18,
   "outputs": [
    {
     "data": {
      "text/plain": "<Axes: title={'center': 'parameter values of the best features'}>"
     },
     "execution_count": 18,
     "metadata": {},
     "output_type": "execute_result"
    },
    {
     "data": {
      "text/plain": "<Figure size 640x480 with 1 Axes>",
      "image/png": "[encoded data removed]"
     },
     "metadata": {},
     "output_type": "display_data"
    }
   ],
   "source": [
    "feature_names = column_transformer.get_feature_names_out()\n",
    "for i, name in enumerate(feature_names):\n",
    "    if name[0] == \"c\":\n",
    "        feature_names[i] = name[len(\"categorical__\") :]\n",
    "    else:\n",
    "        feature_names[i] = name[len(\"numerical__\") :]\n",
    "\n",
    "best_vals = logreg_cv_l2.coef_[0][np.argsort(np.abs(logreg_cv_l2.coef_[0]))[:-10:-1]]\n",
    "\n",
    "best_features = feature_names[np.argsort(np.abs(logreg_cv_l2.coef_[0]))[:-10:-1]]\n",
    "\n",
    "pd.DataFrame(best_vals, index=best_features).plot.barh(\n",
    "    title=\"parameter values of the best features\"\n",
    ")"
   ],
   "metadata": {
    "collapsed": false,
    "ExecuteTime": {
     "end_time": "2023-11-06T21:48:10.535668200Z",
     "start_time": "2023-11-06T21:48:10.423665500Z"
    }
   },
   "id": "de3ff1604c36395d"
  },
  {
   "cell_type": "markdown",
   "source": [
    "What percentage of the  and what features got removed?"
   ],
   "metadata": {
    "collapsed": false
   },
   "id": "5afdcc3b4152d168"
  },
  {
   "cell_type": "code",
   "execution_count": 19,
   "outputs": [
    {
     "name": "stdout",
     "output_type": "stream",
     "text": [
      "45.94594594594595\n"
     ]
    },
    {
     "data": {
      "text/plain": "array(['age', 'euribor3m', 'housing_unknown', 'housing_yes', 'job_admin.',\n       'job_entrepreneur', 'job_housemaid', 'job_management',\n       'job_self-employed', 'job_technician', 'job_unemployed',\n       'job_unknown', 'loan_no', 'loan_unknown', 'loan_yes',\n       'marital_divorced', 'marital_unknown'], dtype=object)"
     },
     "execution_count": 19,
     "metadata": {},
     "output_type": "execute_result"
    }
   ],
   "source": [
    "print(np.sum(logreg_cv_l1.coef_ == 0) / len(logreg_cv_l1.coef_[0])*100)\n",
    "np.sort(feature_names[(logreg_cv_l1.coef_ == 0)[0]])"
   ],
   "metadata": {
    "collapsed": false,
    "ExecuteTime": {
     "end_time": "2023-11-06T21:48:10.561581600Z",
     "start_time": "2023-11-06T21:48:10.535668200Z"
    }
   },
   "id": "f2517bfcfb2c88d2"
  },
  {
   "cell_type": "markdown",
   "source": [
    "It's important to check the scores on the training set"
   ],
   "metadata": {
    "collapsed": false
   },
   "id": "2cf13aaa8f791558"
  },
  {
   "cell_type": "code",
   "execution_count": 20,
   "outputs": [
    {
     "name": "stdout",
     "output_type": "stream",
     "text": [
      "logreg\n",
      "77.78968256467422\n",
      "\n",
      "logreg L2\n",
      "77.79671469867682\n",
      "\n",
      "logreg L1\n",
      "77.83324411303477\n"
     ]
    }
   ],
   "source": [
    "y_pred = logreg.predict_proba(X_train)[:,1]\n",
    "print(\"logreg\")\n",
    "print(roc_auc_score(y_train, y_pred) * 100)\n",
    "print()\n",
    "\n",
    "y_pred = logreg_cv_l2.predict_proba(X_train)[:,1]\n",
    "print(\"logreg L2\")\n",
    "print(roc_auc_score(y_train, y_pred) * 100)\n",
    "print()\n",
    "\n",
    "y_pred = logreg_cv_l1.predict_proba(X_train)[:,1]\n",
    "print(\"logreg L1\")\n",
    "print(roc_auc_score(y_train, y_pred) * 100)"
   ],
   "metadata": {
    "collapsed": false,
    "ExecuteTime": {
     "end_time": "2023-11-06T21:48:10.601448400Z",
     "start_time": "2023-11-06T21:48:10.550618600Z"
    }
   },
   "id": "ffa144a5bfa10261"
  },
  {
   "cell_type": "markdown",
   "source": [
    "Let's see if adding polynomial features improves the scores"
   ],
   "metadata": {
    "collapsed": false
   },
   "id": "ab2fc4794f633b50"
  },
  {
   "cell_type": "code",
   "execution_count": 21,
   "outputs": [
    {
     "name": "stderr",
     "output_type": "stream",
     "text": [
      "C:\\Users\\piotr\\AppData\\Local\\Programs\\Python\\Python310\\lib\\site-packages\\sklearn\\preprocessing\\_encoders.py:975: FutureWarning: `sparse` was renamed to `sparse_output` in version 1.2 and will be removed in 1.4. `sparse_output` is ignored unless you leave `sparse` to its default value.\n",
      "  warnings.warn(\n"
     ]
    }
   ],
   "source": [
    "from sklearn.preprocessing import PolynomialFeatures\n",
    "\n",
    "X_train, X_test, y_train, y_test = train_test_split(\n",
    "    df, y, test_size=0.25, random_state=0, stratify=y\n",
    ")\n",
    "\n",
    "categorical_features = df.select_dtypes(include=\"object\").columns\n",
    "numerical_features = df.select_dtypes(exclude=\"object\").columns\n",
    "\n",
    "one_hot_encoder = OneHotEncoder(sparse=False, handle_unknown=\"ignore\")\n",
    "\n",
    "median_imputer = SimpleImputer(strategy=\"median\")\n",
    "std_scaler = StandardScaler()\n",
    "polynomials = PolynomialFeatures(interaction_only=True, include_bias=False)\n",
    "\n",
    "categorical_pipeline = Pipeline(steps=[(\"onehot\", one_hot_encoder)])\n",
    "numerical_pipeline = Pipeline(\n",
    "    steps=[\n",
    "        (\"imputer\", median_imputer),\n",
    "        (\"polynomial\", polynomials),\n",
    "        (\"scaler\", std_scaler),\n",
    "    ]\n",
    ")\n",
    "\n",
    "column_transformer = ColumnTransformer(\n",
    "    [\n",
    "        (\"categorical\", categorical_pipeline, categorical_features),\n",
    "        (\"numerical\", numerical_pipeline, numerical_features),\n",
    "    ]\n",
    ")\n",
    "\n",
    "X_train = column_transformer.fit_transform(X_train)\n",
    "X_test = column_transformer.transform(X_test)"
   ],
   "metadata": {
    "collapsed": false,
    "ExecuteTime": {
     "end_time": "2023-11-06T21:48:10.739985200Z",
     "start_time": "2023-11-06T21:48:10.598458900Z"
    }
   },
   "id": "f24695f52bafdbff"
  },
  {
   "cell_type": "code",
   "execution_count": 22,
   "outputs": [
    {
     "name": "stderr",
     "output_type": "stream",
     "text": [
      "C:\\Users\\piotr\\AppData\\Local\\Programs\\Python\\Python310\\lib\\site-packages\\sklearn\\linear_model\\_logistic.py:1183: FutureWarning: `penalty='none'`has been deprecated in 1.2 and will be removed in 1.4. To keep the past behaviour, set `penalty=None`.\n",
      "  warnings.warn(\n"
     ]
    },
    {
     "name": "stdout",
     "output_type": "stream",
     "text": [
      "train score :  79.53468412865357\n",
      "test  score :  78.62478658750277\n"
     ]
    },
    {
     "name": "stderr",
     "output_type": "stream",
     "text": [
      "C:\\Users\\piotr\\AppData\\Local\\Programs\\Python\\Python310\\lib\\site-packages\\sklearn\\linear_model\\_logistic.py:460: ConvergenceWarning: lbfgs failed to converge (status=1):\n",
      "STOP: TOTAL NO. of ITERATIONS REACHED LIMIT.\n",
      "\n",
      "Increase the number of iterations (max_iter) or scale the data as shown in:\n",
      "    https://scikit-learn.org/stable/modules/preprocessing.html\n",
      "Please also refer to the documentation for alternative solver options:\n",
      "    https://scikit-learn.org/stable/modules/linear_model.html#logistic-regression\n",
      "  n_iter_i = _check_optimize_result(\n"
     ]
    }
   ],
   "source": [
    "logreg = LogisticRegression(class_weight=\"balanced\", penalty=\"none\")\n",
    "logreg.fit(X_train, y_train)\n",
    "\n",
    "\n",
    "y_pred = logreg.predict_proba(X_train)[:,1]\n",
    "train_score = roc_auc_score(y_train, y_pred) * 100\n",
    "\n",
    "y_pred = logreg.predict_proba(X_test)[:,1]\n",
    "test_score = roc_auc_score(y_test, y_pred) * 100\n",
    "\n",
    "print(\"train score : \",train_score)\n",
    "print(\"test  score : \",test_score)"
   ],
   "metadata": {
    "collapsed": false,
    "ExecuteTime": {
     "end_time": "2023-11-06T21:48:10.919385800Z",
     "start_time": "2023-11-06T21:48:10.737991900Z"
    }
   },
   "id": "a0ba052c7b0a68c2"
  },
  {
   "cell_type": "code",
   "execution_count": 22,
   "outputs": [],
   "source": [],
   "metadata": {
    "collapsed": false,
    "ExecuteTime": {
     "end_time": "2023-11-06T21:48:10.927358700Z",
     "start_time": "2023-11-06T21:48:10.907425400Z"
    }
   },
   "id": "5b9e63d578c803e6"
  }
 ],
 "metadata": {
  "kernelspec": {
   "display_name": "Python 3",
   "language": "python",
   "name": "python3"
  },
  "language_info": {
   "codemirror_mode": {
    "name": "ipython",
    "version": 2
   },
   "file_extension": ".py",
   "mimetype": "text/x-python",
   "name": "python",
   "nbconvert_exporter": "python",
   "pygments_lexer": "ipython2",
   "version": "2.7.6"
  }
 },
 "nbformat": 4,
 "nbformat_minor": 5
}
