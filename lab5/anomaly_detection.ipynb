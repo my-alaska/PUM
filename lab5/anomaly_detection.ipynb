{
 "cells": [
  {
   "cell_type": "markdown",
   "source": [
    "# Anomaly detection"
   ],
   "metadata": {
    "collapsed": false
   },
   "id": "681c4ac7a8f5fdc8"
  },
  {
   "cell_type": "markdown",
   "source": [
    "First install and import needed packages and libraries"
   ],
   "metadata": {
    "collapsed": false
   },
   "id": "f57371ab8198cda7"
  },
  {
   "cell_type": "code",
   "execution_count": 1,
   "outputs": [],
   "source": [
    "# !pip install numpy scipy pandas matplotlib scikit-learn missingno imbalanced-learn pyod xgboost threadpoolctl"
   ],
   "metadata": {
    "collapsed": false,
    "ExecuteTime": {
     "end_time": "2024-01-29T18:41:43.164744600Z",
     "start_time": "2024-01-29T18:41:43.111184500Z"
    }
   },
   "id": "d66ab04f918278e5"
  },
  {
   "cell_type": "code",
   "execution_count": 2,
   "outputs": [],
   "source": [
    "import numpy as np\n",
    "import pandas as pd"
   ],
   "metadata": {
    "collapsed": false,
    "ExecuteTime": {
     "end_time": "2024-01-29T18:41:43.351744800Z",
     "start_time": "2024-01-29T18:41:43.122744300Z"
    }
   },
   "id": "fca4d6ca25bcadb2"
  },
  {
   "cell_type": "markdown",
   "source": [
    "We'll use the [Credit Card Fraud Detection dataset](https://www.kaggle.com/datasets/mlg-ulb/creditcardfraud). \n",
    "\n",
    "It contains data about more than 284 000 credit card transactions, of which barely 492 were fraud. It means the classification is extremely imbalanced. All features are numerical and there's no missing values. Most of the features are unnamed for the sake of anonymity. The only public features are \"Time\" and \"Amount\".\n",
    "\n",
    "Because of the nature of the dataset, authors have proposed use of **Area Under Precision-Recall Curve (AUPRC)** metric."
   ],
   "metadata": {
    "collapsed": false
   },
   "id": "e26bf55203a05970"
  },
  {
   "cell_type": "markdown",
   "source": [
    "### Preprocessing"
   ],
   "metadata": {
    "collapsed": false
   },
   "id": "95565834cafb2c74"
  },
  {
   "cell_type": "code",
   "execution_count": 3,
   "outputs": [],
   "source": [
    "from sklearn.preprocessing import StandardScaler\n",
    "from sklearn.model_selection import train_test_split\n",
    "from imblearn.under_sampling import RandomUnderSampler\n",
    "\n",
    "df = pd.read_parquet(\"credit_card_fraud_data.parquet\")\n",
    "\n",
    "df = df.drop(columns=\"Time\")\n",
    "y = df.pop(\"Class\")"
   ],
   "metadata": {
    "collapsed": false,
    "ExecuteTime": {
     "end_time": "2024-01-29T18:41:43.797746400Z",
     "start_time": "2024-01-29T18:41:43.352745100Z"
    }
   },
   "id": "d4b522b2c19189b6"
  },
  {
   "cell_type": "code",
   "execution_count": 4,
   "outputs": [
    {
     "name": "stdout",
     "output_type": "stream",
     "text": [
      "Fraud class before resampling: 0.17% of the dataset\n"
     ]
    }
   ],
   "source": [
    "y_pre_count = (y == 1).sum()\n",
    "y_pre_perc = y_pre_count / len(y)\n",
    "\n",
    "print(f\"Fraud class before resampling: {100 * y_pre_perc:.2f}% of the dataset\")"
   ],
   "metadata": {
    "collapsed": false,
    "ExecuteTime": {
     "end_time": "2024-01-29T18:41:43.815744900Z",
     "start_time": "2024-01-29T18:41:43.797746400Z"
    }
   },
   "id": "f170a68ff63f8535"
  },
  {
   "cell_type": "markdown",
   "source": [
    "Randomly select 50000 elements of the negative class"
   ],
   "metadata": {
    "collapsed": false
   },
   "id": "2555bac466237ef0"
  },
  {
   "cell_type": "code",
   "execution_count": 5,
   "outputs": [],
   "source": [
    "sampling_strategy = {0: 50000, 1: (y == 1).sum()}\n",
    "random_under_sampler = RandomUnderSampler(\n",
    "    sampling_strategy=sampling_strategy, random_state=0\n",
    ")\n",
    "df, y = random_under_sampler.fit_resample(df, y)"
   ],
   "metadata": {
    "collapsed": false,
    "ExecuteTime": {
     "end_time": "2024-01-29T18:41:43.877744500Z",
     "start_time": "2024-01-29T18:41:43.815744900Z"
    }
   },
   "id": "a399f8e638b54f64"
  },
  {
   "cell_type": "markdown",
   "source": [
    "Split and scale the data"
   ],
   "metadata": {
    "collapsed": false
   },
   "id": "b22504c794c7997a"
  },
  {
   "cell_type": "code",
   "execution_count": 6,
   "outputs": [],
   "source": [
    "X_train, X_test, y_train, y_test = train_test_split(\n",
    "    df, y, test_size=0.25, random_state=0, stratify=y\n",
    ")\n",
    "\n",
    "scaler = StandardScaler()\n",
    "\n",
    "X_train = scaler.fit_transform(X_train)\n",
    "X_test = scaler.transform(X_test)"
   ],
   "metadata": {
    "collapsed": false,
    "ExecuteTime": {
     "end_time": "2024-01-29T18:41:43.910746100Z",
     "start_time": "2024-01-29T18:41:43.878744600Z"
    }
   },
   "id": "eba30d0b818d0872"
  },
  {
   "cell_type": "code",
   "execution_count": 7,
   "outputs": [
    {
     "name": "stdout",
     "output_type": "stream",
     "text": [
      "Fraud class after resampling: 0.97% of the dataset\n"
     ]
    }
   ],
   "source": [
    "y_pos_count = (y == 1).sum()\n",
    "y_pos_perc = y_pos_count / len(y)\n",
    "\n",
    "print(f\"Fraud class after resampling: {100 * y_pos_perc:.2f}% of the dataset\")"
   ],
   "metadata": {
    "collapsed": false,
    "ExecuteTime": {
     "end_time": "2024-01-29T18:41:43.925745700Z",
     "start_time": "2024-01-29T18:41:43.909745Z"
    }
   },
   "id": "1bf9391adb4181a1"
  },
  {
   "cell_type": "markdown",
   "source": [
    "We'll use 3 unsupervised learning algorithms for outlier detection\n",
    "- kNN\n",
    "- Local Outlier Factor (LOF)\n",
    "- Isolation Forest"
   ],
   "metadata": {
    "collapsed": false
   },
   "id": "37d62b7ccf85dd8e"
  },
  {
   "cell_type": "code",
   "execution_count": 8,
   "outputs": [],
   "source": [
    "from sklearn.metrics import average_precision_score\n",
    "\n",
    "\n",
    "def assess_anomaly_detection_model(estimator, X_test, y_test) -> None:\n",
    "    y_pred_score = estimator.predict_proba(X_test)\n",
    "\n",
    "    # in case pred score is a distribution. That depends on the used estimator\n",
    "    if len(y_pred_score.shape) > 1:\n",
    "        y_pred_score = y_pred_score[:, 1]\n",
    "\n",
    "    auprc = average_precision_score(y_test, y_pred_score)\n",
    "    print(f\"AUPRC: {100 * auprc:.2f}%\")"
   ],
   "metadata": {
    "collapsed": false,
    "ExecuteTime": {
     "end_time": "2024-01-29T18:41:43.971744100Z",
     "start_time": "2024-01-29T18:41:43.927744200Z"
    }
   },
   "id": "e883b96acfb1c957"
  },
  {
   "cell_type": "code",
   "execution_count": 9,
   "outputs": [
    {
     "name": "stdout",
     "output_type": "stream",
     "text": [
      "kNN metrics\n",
      "AUPRC: 16.87%\n",
      "Local Outlier Factor metrics\n",
      "AUPRC: 1.02%\n",
      "Isolation Forest metrics\n",
      "AUPRC: 55.85%\n"
     ]
    }
   ],
   "source": [
    "from pyod.models.iforest import IForest\n",
    "from pyod.models.knn import KNN\n",
    "from pyod.models.lof import LOF\n",
    "\n",
    "# General rule of thumb is to use the fraction of training dataset as contamination factor\n",
    "# However, it might not always be a known number\n",
    "contamination = (y == 1).sum() / len(y)\n",
    "\n",
    "knn = KNN(contamination=contamination, n_jobs=-1)\n",
    "knn.fit(X_train)\n",
    "print(\"kNN metrics\")\n",
    "assess_anomaly_detection_model(knn, X_test, y_test)\n",
    "print()\n",
    "\n",
    "lof = LOF(contamination=contamination, n_jobs=-1)\n",
    "lof.fit(X_train)\n",
    "print(\"Local Outlier Factor metrics\")\n",
    "assess_anomaly_detection_model(lof, X_test, y_test)\n",
    "print()\n",
    "\n",
    "iforest = IForest(contamination=contamination, random_state=0, n_jobs=-1)\n",
    "iforest.fit(X_train)\n",
    "print(\"Isolation Forest metrics\")\n",
    "assess_anomaly_detection_model(iforest, X_test, y_test)\n",
    "print()"
   ],
   "metadata": {
    "collapsed": false,
    "ExecuteTime": {
     "end_time": "2024-01-29T18:41:55.294256800Z",
     "start_time": "2024-01-29T18:41:43.942745Z"
    }
   },
   "id": "9719b4007cfbb589"
  },
  {
   "cell_type": "markdown",
   "source": [],
   "metadata": {
    "collapsed": false
   },
   "id": "873af224ced4a2b1"
  },
  {
   "cell_type": "markdown",
   "source": [
    "Isolation forest achieved a really high AUPRC score! AUPRC score generally is very low even for the best models. Achieving score of over 30% is a good score.\n",
    "\n",
    "Let's perform stepwise hyperparameter tuning on an isolation forest model"
   ],
   "metadata": {
    "collapsed": false
   },
   "id": "367a4ef6a507b203"
  },
  {
   "cell_type": "code",
   "execution_count": 11,
   "outputs": [
    {
     "name": "stdout",
     "output_type": "stream",
     "text": [
      "AUPRC: 55.64%\n",
      "{'max_samples': 300, 'n_estimators': 400}\n"
     ]
    }
   ],
   "source": [
    "from sklearn.model_selection import GridSearchCV\n",
    "from sklearn.metrics import make_scorer\n",
    "import warnings\n",
    "\n",
    "iforest = IForest(contamination=contamination, random_state=0, n_jobs=-1, verbose=False)\n",
    "\n",
    "param_grid = {\n",
    "    \"n_estimators\": [100, 200, 300, 400, 500],\n",
    "    \"max_samples\": [100, 200, 256, 300, 400, 500, \"auto\"],\n",
    "}\n",
    "\n",
    "scorer = make_scorer(average_precision_score)\n",
    "\n",
    "cv = GridSearchCV(\n",
    "    estimator=iforest,\n",
    "    param_grid=param_grid,\n",
    "    scoring=scorer,\n",
    "    cv=5,\n",
    "    error_score=\"raise\",\n",
    "    n_jobs=-1,\n",
    ")\n",
    "\n",
    "# We get many warnings about passing y value. We need it for tuning\n",
    "warnings.filterwarnings(\"ignore\", category=UserWarning)\n",
    "cv.fit(X_train, y_train)\n",
    "warnings.filterwarnings(\"default\", category=UserWarning)\n",
    "\n",
    "assess_anomaly_detection_model(cv.best_estimator_, X_test, y_test)\n",
    "print(cv.best_params_)"
   ],
   "metadata": {
    "collapsed": false,
    "ExecuteTime": {
     "end_time": "2024-01-29T18:43:47.267275Z",
     "start_time": "2024-01-29T18:43:22.809262100Z"
    }
   },
   "id": "89d25dcac809a620"
  },
  {
   "cell_type": "markdown",
   "source": [
    "That's a great result. \n",
    "\n",
    "Let's see if we can improve it using XGBoost Outlier Detection (XGBOD)"
   ],
   "metadata": {
    "collapsed": false
   },
   "id": "1d3943f1493c84f3"
  },
  {
   "cell_type": "code",
   "execution_count": 12,
   "outputs": [],
   "source": [
    "knn_list = [\n",
    "    KNN(contamination=contamination, n_jobs=-1, n_neighbors=nn)\n",
    "    for nn in [1, 3, 5, 10, 20, 30, 40, 50]\n",
    "]\n",
    "iforest_list = [\n",
    "    IForest(contamination=contamination, random_state=0, n_jobs=-1, n_estimators=ne)\n",
    "    for ne in [50, 100, 200, 300]\n",
    "]\n",
    "\n",
    "estimator_list = knn_list + iforest_list\n",
    "\n",
    "from pyod.models.xgbod import XGBOD\n",
    "\n",
    "xgbod_model = XGBOD(estimator_list, n_jobs=-1, random_state=0)\n",
    "\n",
    "warnings.filterwarnings(\"ignore\", category=UserWarning)\n",
    "xgbod_model.fit(X_train, y_train)\n",
    "warnings.filterwarnings(\"default\", category=UserWarning)"
   ],
   "metadata": {
    "collapsed": false,
    "ExecuteTime": {
     "end_time": "2024-01-29T19:47:05.262316500Z",
     "start_time": "2024-01-29T19:46:57.420605500Z"
    }
   },
   "id": "6dfbd1a07f72b690"
  },
  {
   "cell_type": "code",
   "execution_count": 13,
   "outputs": [
    {
     "name": "stdout",
     "output_type": "stream",
     "text": [
      "AUPRC: 88.97%\n"
     ]
    }
   ],
   "source": [
    "assess_anomaly_detection_model(xgbod_model, X_test, y_test)"
   ],
   "metadata": {
    "collapsed": false,
    "ExecuteTime": {
     "end_time": "2024-01-29T19:48:28.195805200Z",
     "start_time": "2024-01-29T19:47:12.615169Z"
    }
   },
   "id": "54213c0437013aec"
  },
  {
   "cell_type": "markdown",
   "source": [
    "We have a very high score however, the prediction time was very high"
   ],
   "metadata": {
    "collapsed": false
   },
   "id": "ee00b10998632ff1"
  },
  {
   "cell_type": "code",
   "execution_count": null,
   "outputs": [],
   "source": [],
   "metadata": {
    "collapsed": false
   },
   "id": "b645530a5039da20"
  }
 ],
 "metadata": {
  "kernelspec": {
   "display_name": "Python 3",
   "language": "python",
   "name": "python3"
  },
  "language_info": {
   "codemirror_mode": {
    "name": "ipython",
    "version": 2
   },
   "file_extension": ".py",
   "mimetype": "text/x-python",
   "name": "python",
   "nbconvert_exporter": "python",
   "pygments_lexer": "ipython2",
   "version": "2.7.6"
  }
 },
 "nbformat": 4,
 "nbformat_minor": 5
}
